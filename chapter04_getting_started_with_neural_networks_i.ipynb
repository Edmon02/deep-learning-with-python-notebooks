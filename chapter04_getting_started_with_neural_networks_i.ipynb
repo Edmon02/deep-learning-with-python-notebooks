{
  "nbformat": 4,
  "nbformat_minor": 0,
  "metadata": {
    "colab": {
      "provenance": []
    },
    "kernelspec": {
      "name": "python3",
      "display_name": "Python 3"
    },
    "language_info": {
      "name": "python"
    }
  },
  "cells": [
    {
      "cell_type": "markdown",
      "source": [
        "This is a companion notebook for the book [Deep Learning with Python, Second Edition](https://www.manning.com/books/deep-learning-with-python-second-edition?a_aid=keras&a_bid=76564dff). For readability, it only contains runnable code blocks and section titles, and omits everything else in the book: text paragraphs, figures, and pseudocode.\n",
        "\n",
        "**If you want to be able to follow what's going on, I recommend reading the notebook side by side with your copy of the book.**\n",
        "\n",
        "This notebook was generated for TensorFlow 2.6."
      ],
      "metadata": {
        "id": "8_owCDzlKIb6"
      }
    },
    {
      "cell_type": "markdown",
      "source": [
        "# Getting started with neural networks: Classification and regression"
      ],
      "metadata": {
        "id": "4Sn5F2DHKL7Z"
      }
    },
    {
      "cell_type": "markdown",
      "source": [
        "**Classification and regression glossary**\n",
        "\n",
        "Classification and regression involve many specialized terms. You’ve come across\n",
        "some of them in earlier examples, and you’ll see more of them in future chapters.\n",
        "They have precise, machine learning–specific definitions, and you should be familiar with them:\n",
        "* Sample or input—One data point that goes into your model.\n",
        "* Prediction or output—What comes out of your model.\n",
        "* Target—The truth. What your model should ideally have predicted, according\n",
        "to an external source of data.\n",
        "* Prediction error or loss value—A measure of the distance between your\n",
        "model’s prediction and the target.\n",
        "* Classes—A set of possible labels to choose from in a classification problem.\n",
        "For example, when classifying cat and dog pictures, “dog” and “cat” are the\n",
        "two classes.\n",
        "* Label —A specific instance of a class annotation in a classification problem.\n",
        "For instance, if picture #1234 is annotated as containing the class “dog,”\n",
        "then “dog” is a label of picture #1234.\n",
        "* Ground-truth or annotations—All targets for a dataset, typically collected by\n",
        "humans.\n",
        "* Binary classification—A classification task where each input sample should\n",
        "be categorized into two exclusive categories.\n",
        "* Multiclass classification—A classification task where each input sample\n",
        "should be categorized into more than two categories: for instance, classifying\n",
        "handwritten digits.\n",
        "* Multilabel classification—A classification task where each input sample can\n",
        "be assigned multiple labels. For instance, a given image may contain both a\n",
        "cat and a dog and should be annotated both with the “cat” label and the\n",
        "“dog” label. The number of labels per image is usually variable.\n",
        "* Scalar regression—A task where the target is a continuous scalar value. Predicting house prices is a good example: the different target prices form a continuous space.\n",
        "* Vector regression—A task where the target is a set of continuous values: for\n",
        "example, a continuous vector. If you’re doing regression against multiple values (such as the coordinates of a bounding box in an image), then you’re\n",
        "doing vector regression.\n",
        "* Mini-batch or batch—A small set of samples (typically between 8 and 128)\n",
        "that are processed simultaneously by the model. The number of samples is\n",
        "often a power of 2, to facilitate memory allocation on GPU. When training, a\n",
        "mini-batch is used to compute a single gradient-descent update applied to\n",
        "the weights of the model."
      ],
      "metadata": {
        "id": "m7pgvXjhOOq-"
      }
    },
    {
      "cell_type": "markdown",
      "source": [
        "## Classifying movie reviews: A binary classification example"
      ],
      "metadata": {
        "id": "PpN0aW5BOGI_"
      }
    },
    {
      "cell_type": "markdown",
      "source": [
        "### The IMDB dataset"
      ],
      "metadata": {
        "id": "MV3WzaiIOHuK"
      }
    },
    {
      "cell_type": "markdown",
      "source": [
        "**Loading the IMDB dataset**"
      ],
      "metadata": {
        "id": "ESsvXYAEOJct"
      }
    },
    {
      "cell_type": "code",
      "source": [
        "from tensorflow.keras.datasets import imdb\n",
        "(train_data, train_labels), (test_data, test_labels) = imdb.load_data(\n",
        "    num_words=10000)"
      ],
      "metadata": {
        "colab": {
          "base_uri": "https://localhost:8080/"
        },
        "id": "fxHSr9U6OK5I",
        "outputId": "a00e4694-f065-4252-f976-2f70fd282624"
      },
      "execution_count": 1,
      "outputs": [
        {
          "output_type": "stream",
          "name": "stdout",
          "text": [
            "Downloading data from https://storage.googleapis.com/tensorflow/tf-keras-datasets/imdb.npz\n",
            "17464789/17464789 [==============================] - 1s 0us/step\n"
          ]
        }
      ]
    },
    {
      "cell_type": "code",
      "source": [
        "train_data[0]"
      ],
      "metadata": {
        "colab": {
          "base_uri": "https://localhost:8080/"
        },
        "id": "MfOhCFmOOcBY",
        "outputId": "fa84efe0-656b-4a95-87f4-087bf5484cde"
      },
      "execution_count": 2,
      "outputs": [
        {
          "output_type": "execute_result",
          "data": {
            "text/plain": [
              "[1,\n",
              " 14,\n",
              " 22,\n",
              " 16,\n",
              " 43,\n",
              " 530,\n",
              " 973,\n",
              " 1622,\n",
              " 1385,\n",
              " 65,\n",
              " 458,\n",
              " 4468,\n",
              " 66,\n",
              " 3941,\n",
              " 4,\n",
              " 173,\n",
              " 36,\n",
              " 256,\n",
              " 5,\n",
              " 25,\n",
              " 100,\n",
              " 43,\n",
              " 838,\n",
              " 112,\n",
              " 50,\n",
              " 670,\n",
              " 2,\n",
              " 9,\n",
              " 35,\n",
              " 480,\n",
              " 284,\n",
              " 5,\n",
              " 150,\n",
              " 4,\n",
              " 172,\n",
              " 112,\n",
              " 167,\n",
              " 2,\n",
              " 336,\n",
              " 385,\n",
              " 39,\n",
              " 4,\n",
              " 172,\n",
              " 4536,\n",
              " 1111,\n",
              " 17,\n",
              " 546,\n",
              " 38,\n",
              " 13,\n",
              " 447,\n",
              " 4,\n",
              " 192,\n",
              " 50,\n",
              " 16,\n",
              " 6,\n",
              " 147,\n",
              " 2025,\n",
              " 19,\n",
              " 14,\n",
              " 22,\n",
              " 4,\n",
              " 1920,\n",
              " 4613,\n",
              " 469,\n",
              " 4,\n",
              " 22,\n",
              " 71,\n",
              " 87,\n",
              " 12,\n",
              " 16,\n",
              " 43,\n",
              " 530,\n",
              " 38,\n",
              " 76,\n",
              " 15,\n",
              " 13,\n",
              " 1247,\n",
              " 4,\n",
              " 22,\n",
              " 17,\n",
              " 515,\n",
              " 17,\n",
              " 12,\n",
              " 16,\n",
              " 626,\n",
              " 18,\n",
              " 2,\n",
              " 5,\n",
              " 62,\n",
              " 386,\n",
              " 12,\n",
              " 8,\n",
              " 316,\n",
              " 8,\n",
              " 106,\n",
              " 5,\n",
              " 4,\n",
              " 2223,\n",
              " 5244,\n",
              " 16,\n",
              " 480,\n",
              " 66,\n",
              " 3785,\n",
              " 33,\n",
              " 4,\n",
              " 130,\n",
              " 12,\n",
              " 16,\n",
              " 38,\n",
              " 619,\n",
              " 5,\n",
              " 25,\n",
              " 124,\n",
              " 51,\n",
              " 36,\n",
              " 135,\n",
              " 48,\n",
              " 25,\n",
              " 1415,\n",
              " 33,\n",
              " 6,\n",
              " 22,\n",
              " 12,\n",
              " 215,\n",
              " 28,\n",
              " 77,\n",
              " 52,\n",
              " 5,\n",
              " 14,\n",
              " 407,\n",
              " 16,\n",
              " 82,\n",
              " 2,\n",
              " 8,\n",
              " 4,\n",
              " 107,\n",
              " 117,\n",
              " 5952,\n",
              " 15,\n",
              " 256,\n",
              " 4,\n",
              " 2,\n",
              " 7,\n",
              " 3766,\n",
              " 5,\n",
              " 723,\n",
              " 36,\n",
              " 71,\n",
              " 43,\n",
              " 530,\n",
              " 476,\n",
              " 26,\n",
              " 400,\n",
              " 317,\n",
              " 46,\n",
              " 7,\n",
              " 4,\n",
              " 2,\n",
              " 1029,\n",
              " 13,\n",
              " 104,\n",
              " 88,\n",
              " 4,\n",
              " 381,\n",
              " 15,\n",
              " 297,\n",
              " 98,\n",
              " 32,\n",
              " 2071,\n",
              " 56,\n",
              " 26,\n",
              " 141,\n",
              " 6,\n",
              " 194,\n",
              " 7486,\n",
              " 18,\n",
              " 4,\n",
              " 226,\n",
              " 22,\n",
              " 21,\n",
              " 134,\n",
              " 476,\n",
              " 26,\n",
              " 480,\n",
              " 5,\n",
              " 144,\n",
              " 30,\n",
              " 5535,\n",
              " 18,\n",
              " 51,\n",
              " 36,\n",
              " 28,\n",
              " 224,\n",
              " 92,\n",
              " 25,\n",
              " 104,\n",
              " 4,\n",
              " 226,\n",
              " 65,\n",
              " 16,\n",
              " 38,\n",
              " 1334,\n",
              " 88,\n",
              " 12,\n",
              " 16,\n",
              " 283,\n",
              " 5,\n",
              " 16,\n",
              " 4472,\n",
              " 113,\n",
              " 103,\n",
              " 32,\n",
              " 15,\n",
              " 16,\n",
              " 5345,\n",
              " 19,\n",
              " 178,\n",
              " 32]"
            ]
          },
          "metadata": {},
          "execution_count": 2
        }
      ]
    },
    {
      "cell_type": "code",
      "source": [
        "train_labels[0]"
      ],
      "metadata": {
        "colab": {
          "base_uri": "https://localhost:8080/"
        },
        "id": "Pz6YWjt-Ov_B",
        "outputId": "4d5b4619-1810-4bfd-f3d8-d5b846d7718d"
      },
      "execution_count": 3,
      "outputs": [
        {
          "output_type": "execute_result",
          "data": {
            "text/plain": [
              "1"
            ]
          },
          "metadata": {},
          "execution_count": 3
        }
      ]
    },
    {
      "cell_type": "code",
      "source": [
        "max([max(sequence) for sequence in train_data])"
      ],
      "metadata": {
        "colab": {
          "base_uri": "https://localhost:8080/"
        },
        "id": "m1aCs2AeOx7Q",
        "outputId": "aa9cf3da-69aa-4dd2-d0cb-cad6a462efa0"
      },
      "execution_count": 4,
      "outputs": [
        {
          "output_type": "execute_result",
          "data": {
            "text/plain": [
              "9999"
            ]
          },
          "metadata": {},
          "execution_count": 4
        }
      ]
    },
    {
      "cell_type": "markdown",
      "source": [
        "**Decoding reviews back to text**"
      ],
      "metadata": {
        "id": "gJ1UQGBfO4H4"
      }
    },
    {
      "cell_type": "code",
      "source": [
        "word_index = imdb.get_word_index()\n",
        "reverse_word_index = dict(\n",
        "    [(value, key) for (key, value) in word_index.items()])\n",
        "decoded_review = \" \".join(\n",
        "    [reverse_word_index.get(i - 3, \"?\") for i in train_data[0]])"
      ],
      "metadata": {
        "id": "rV038JX2PAYy"
      },
      "execution_count": 19,
      "outputs": []
    },
    {
      "cell_type": "markdown",
      "source": [
        "### Preparing the data"
      ],
      "metadata": {
        "id": "QMWI0BXrRJXo"
      }
    },
    {
      "cell_type": "markdown",
      "source": [
        "**Encoding the integer sequences via multi-hot encoding**"
      ],
      "metadata": {
        "id": "Rmo_WkQ2R19Z"
      }
    },
    {
      "cell_type": "code",
      "source": [
        "import numpy as np\n",
        "def vectorize_sequences(sequences, dimension=10000):\n",
        "    results = np.zeros((len(sequences), dimension))\n",
        "    for i, sequence in enumerate(sequences):\n",
        "        for j in sequence:\n",
        "            results[i, j] = 1.\n",
        "    return results\n",
        "x_train = vectorize_sequences(train_data)\n",
        "x_test = vectorize_sequences(test_data)"
      ],
      "metadata": {
        "id": "XnpVC-evS_4a"
      },
      "execution_count": 20,
      "outputs": []
    },
    {
      "cell_type": "code",
      "source": [
        "x_train[0]"
      ],
      "metadata": {
        "colab": {
          "base_uri": "https://localhost:8080/"
        },
        "id": "xpHkQW9ITUVZ",
        "outputId": "f6710bdc-3b50-4e4c-d5ff-56b6631471c5"
      },
      "execution_count": 23,
      "outputs": [
        {
          "output_type": "execute_result",
          "data": {
            "text/plain": [
              "array([0., 1., 1., ..., 0., 0., 0.])"
            ]
          },
          "metadata": {},
          "execution_count": 23
        }
      ]
    },
    {
      "cell_type": "code",
      "source": [
        "y_train = np.asarray(train_labels).astype(\"float32\")\n",
        "y_test = np.asarray(test_labels).astype(\"float32\")"
      ],
      "metadata": {
        "id": "wnkfy32-Tz0Q"
      },
      "execution_count": 24,
      "outputs": []
    },
    {
      "cell_type": "markdown",
      "source": [
        "### Building your model"
      ],
      "metadata": {
        "id": "6LI2TEAYT39g"
      }
    },
    {
      "cell_type": "markdown",
      "source": [
        "**Model definition**"
      ],
      "metadata": {
        "id": "Pxfe3Y5XUwVW"
      }
    },
    {
      "cell_type": "code",
      "source": [
        "from tensorflow import keras\n",
        "from tensorflow.keras import layers\n",
        "\n",
        "model = keras.Sequential([\n",
        "    layers.Dense(16, activation=\"relu\"),\n",
        "    layers.Dense(16, activation=\"relu\"),\n",
        "    layers.Dense(1, activation=\"sigmoid\")\n",
        "])"
      ],
      "metadata": {
        "id": "lfb0mELyUx48"
      },
      "execution_count": 25,
      "outputs": []
    },
    {
      "cell_type": "markdown",
      "source": [
        "**Compiling the model**"
      ],
      "metadata": {
        "id": "bYktG8rOUyrJ"
      }
    },
    {
      "cell_type": "code",
      "source": [
        "model.compile(optimizer=\"rmsprop\",\n",
        "              loss=\"binary_crossentropy\",\n",
        "              metrics=[\"accuracy\"])"
      ],
      "metadata": {
        "id": "DHuo-xgsWgL4"
      },
      "execution_count": 26,
      "outputs": []
    },
    {
      "cell_type": "markdown",
      "source": [
        "### Validating your approach"
      ],
      "metadata": {
        "id": "4VNj2hIxW1jk"
      }
    },
    {
      "cell_type": "markdown",
      "source": [
        "**Setting aside a validation set**"
      ],
      "metadata": {
        "id": "kUDqM-S1W3Vq"
      }
    },
    {
      "cell_type": "code",
      "source": [
        "x_val = x_train[:10000]\n",
        "partial_x_train = x_train[10000:]\n",
        "y_val = y_train[:10000]\n",
        "partial_y_train = y_train[10000:]"
      ],
      "metadata": {
        "id": "HC_qUQQ0WhTY"
      },
      "execution_count": 28,
      "outputs": []
    },
    {
      "cell_type": "markdown",
      "source": [
        "**Training your model**"
      ],
      "metadata": {
        "id": "7n-hNsuxWxY4"
      }
    },
    {
      "cell_type": "code",
      "source": [
        "history = model.fit(partial_x_train,\n",
        "                    partial_y_train,\n",
        "                    epochs=20,\n",
        "                    batch_size=512,\n",
        "                    validation_data=(x_val, y_val))"
      ],
      "metadata": {
        "colab": {
          "base_uri": "https://localhost:8080/"
        },
        "id": "zg_UBz2VW6r2",
        "outputId": "95e1ddd4-c448-4564-cfe4-2509d7df23bf"
      },
      "execution_count": 30,
      "outputs": [
        {
          "output_type": "stream",
          "name": "stdout",
          "text": [
            "Epoch 1/20\n",
            "30/30 [==============================] - 5s 127ms/step - loss: 0.5527 - accuracy: 0.7665 - val_loss: 0.4287 - val_accuracy: 0.8602\n",
            "Epoch 2/20\n",
            "30/30 [==============================] - 4s 147ms/step - loss: 0.3549 - accuracy: 0.8890 - val_loss: 0.3314 - val_accuracy: 0.8802\n",
            "Epoch 3/20\n",
            "30/30 [==============================] - 3s 86ms/step - loss: 0.2637 - accuracy: 0.9136 - val_loss: 0.2911 - val_accuracy: 0.8881\n",
            "Epoch 4/20\n",
            "30/30 [==============================] - 1s 40ms/step - loss: 0.2113 - accuracy: 0.9311 - val_loss: 0.2807 - val_accuracy: 0.8883\n",
            "Epoch 5/20\n",
            "30/30 [==============================] - 2s 52ms/step - loss: 0.1789 - accuracy: 0.9407 - val_loss: 0.2751 - val_accuracy: 0.8880\n",
            "Epoch 6/20\n",
            "30/30 [==============================] - 1s 36ms/step - loss: 0.1505 - accuracy: 0.9511 - val_loss: 0.3068 - val_accuracy: 0.8808\n",
            "Epoch 7/20\n",
            "30/30 [==============================] - 1s 40ms/step - loss: 0.1289 - accuracy: 0.9600 - val_loss: 0.3261 - val_accuracy: 0.8750\n",
            "Epoch 8/20\n",
            "30/30 [==============================] - 1s 37ms/step - loss: 0.1119 - accuracy: 0.9660 - val_loss: 0.2997 - val_accuracy: 0.8851\n",
            "Epoch 9/20\n",
            "30/30 [==============================] - 1s 37ms/step - loss: 0.0982 - accuracy: 0.9709 - val_loss: 0.3102 - val_accuracy: 0.8827\n",
            "Epoch 10/20\n",
            "30/30 [==============================] - 1s 37ms/step - loss: 0.0843 - accuracy: 0.9766 - val_loss: 0.3275 - val_accuracy: 0.8790\n",
            "Epoch 11/20\n",
            "30/30 [==============================] - 1s 39ms/step - loss: 0.0713 - accuracy: 0.9819 - val_loss: 0.3424 - val_accuracy: 0.8797\n",
            "Epoch 12/20\n",
            "30/30 [==============================] - 2s 57ms/step - loss: 0.0622 - accuracy: 0.9847 - val_loss: 0.3608 - val_accuracy: 0.8796\n",
            "Epoch 13/20\n",
            "30/30 [==============================] - 2s 64ms/step - loss: 0.0525 - accuracy: 0.9889 - val_loss: 0.3792 - val_accuracy: 0.8763\n",
            "Epoch 14/20\n",
            "30/30 [==============================] - 1s 38ms/step - loss: 0.0466 - accuracy: 0.9898 - val_loss: 0.3971 - val_accuracy: 0.8766\n",
            "Epoch 15/20\n",
            "30/30 [==============================] - 1s 36ms/step - loss: 0.0347 - accuracy: 0.9949 - val_loss: 0.4250 - val_accuracy: 0.8718\n",
            "Epoch 16/20\n",
            "30/30 [==============================] - 1s 38ms/step - loss: 0.0328 - accuracy: 0.9937 - val_loss: 0.4750 - val_accuracy: 0.8635\n",
            "Epoch 17/20\n",
            "30/30 [==============================] - 1s 38ms/step - loss: 0.0279 - accuracy: 0.9966 - val_loss: 0.4563 - val_accuracy: 0.8731\n",
            "Epoch 18/20\n",
            "30/30 [==============================] - 1s 39ms/step - loss: 0.0226 - accuracy: 0.9971 - val_loss: 0.4820 - val_accuracy: 0.8728\n",
            "Epoch 19/20\n",
            "30/30 [==============================] - 1s 38ms/step - loss: 0.0193 - accuracy: 0.9983 - val_loss: 0.5214 - val_accuracy: 0.8699\n",
            "Epoch 20/20\n",
            "30/30 [==============================] - 1s 38ms/step - loss: 0.0161 - accuracy: 0.9989 - val_loss: 0.5262 - val_accuracy: 0.8684\n"
          ]
        }
      ]
    },
    {
      "cell_type": "code",
      "source": [
        "history_dict = history.history\n",
        "history_dict.keys()"
      ],
      "metadata": {
        "colab": {
          "base_uri": "https://localhost:8080/"
        },
        "id": "fnDX6oCaW87Q",
        "outputId": "cdad1ea0-a491-4937-92bd-f6a00d4df227"
      },
      "execution_count": 31,
      "outputs": [
        {
          "output_type": "execute_result",
          "data": {
            "text/plain": [
              "dict_keys(['loss', 'accuracy', 'val_loss', 'val_accuracy'])"
            ]
          },
          "metadata": {},
          "execution_count": 31
        }
      ]
    },
    {
      "cell_type": "markdown",
      "source": [
        "**Plotting the training and validation loss**"
      ],
      "metadata": {
        "id": "lamFX5ZcXUrB"
      }
    },
    {
      "cell_type": "code",
      "source": [
        "import matplotlib.pyplot as plt\n",
        "history_dict = history.history\n",
        "loss_values = history_dict[\"loss\"]\n",
        "val_loss_values = history_dict[\"val_loss\"]\n",
        "epochs = range(1, len(loss_values) + 1)\n",
        "plt.plot(epochs, loss_values, \"bo\", label=\"Training loss\")\n",
        "plt.plot(epochs, val_loss_values, \"b\", label=\"Validation loss\")\n",
        "plt.title(\"Training and validation loss\")\n",
        "plt.xlabel(\"Epochs\")\n",
        "plt.ylabel(\"Loss\")\n",
        "plt.legend()\n",
        "plt.show()"
      ],
      "metadata": {
        "colab": {
          "base_uri": "https://localhost:8080/",
          "height": 472
        },
        "id": "kt6DjJxBXj0B",
        "outputId": "82f095f6-d3a8-45d7-83aa-f96b151a3ea4"
      },
      "execution_count": 32,
      "outputs": [
        {
          "output_type": "display_data",
          "data": {
            "text/plain": [
              "<Figure size 640x480 with 1 Axes>"
            ],
            "image/png": "[encoded data removed]"
          },
          "metadata": {}
        }
      ]
    },
    {
      "cell_type": "markdown",
      "source": [
        "**Plotting the training and validation accuracy**"
      ],
      "metadata": {
        "id": "gznh9qkgXk3g"
      }
    },
    {
      "cell_type": "code",
      "source": [
        "plt.clf()\n",
        "acc = history_dict[\"accuracy\"]\n",
        "val_acc = history_dict[\"val_accuracy\"]\n",
        "plt.plot(epochs, acc, \"bo\", label=\"Training acc\")\n",
        "plt.plot(epochs, val_acc, \"b\", label=\"Validation acc\")\n",
        "plt.title(\"Training and validation accuracy\")\n",
        "plt.xlabel(\"Epochs\")\n",
        "plt.ylabel(\"Accuracy\")\n",
        "plt.legend()\n",
        "plt.show()"
      ],
      "metadata": {
        "colab": {
          "base_uri": "https://localhost:8080/",
          "height": 472
        },
        "id": "8KJjDz_GX1aI",
        "outputId": "69128e10-e1da-489f-9d81-bc65f292fa2a"
      },
      "execution_count": 33,
      "outputs": [
        {
          "output_type": "display_data",
          "data": {
            "text/plain": [
              "<Figure size 640x480 with 1 Axes>"
            ],
            "image/png": "[encoded data removed]"
          },
          "metadata": {}
        }
      ]
    },
    {
      "cell_type": "markdown",
      "source": [
        "**Retraining a model from scratch**"
      ],
      "metadata": {
        "id": "byJBsyOjYGnB"
      }
    },
    {
      "cell_type": "code",
      "source": [
        "model = keras.Sequential([\n",
        "    layers.Dense(16, activation=\"relu\"),\n",
        "    layers.Dense(16, activation=\"relu\"),\n",
        "    layers.Dense(1, activation=\"sigmoid\")\n",
        "])\n",
        "model.compile(optimizer=\"rmsprop\",\n",
        "              loss=\"binary_crossentropy\",\n",
        "              metrics=[\"accuracy\"])\n",
        "model.fit(x_train, y_train, epochs=4, batch_size=512)\n",
        "results = model.evaluate(x_test, y_test)"
      ],
      "metadata": {
        "colab": {
          "base_uri": "https://localhost:8080/"
        },
        "id": "MhV3T1CvYo45",
        "outputId": "fc201430-5c27-4c22-c48e-d4c822b6d77a"
      },
      "execution_count": 34,
      "outputs": [
        {
          "output_type": "stream",
          "name": "stdout",
          "text": [
            "Epoch 1/4\n",
            "49/49 [==============================] - 2s 29ms/step - loss: 0.4457 - accuracy: 0.8150\n",
            "Epoch 2/4\n",
            "49/49 [==============================] - 1s 28ms/step - loss: 0.2600 - accuracy: 0.9059\n",
            "Epoch 3/4\n",
            "49/49 [==============================] - 1s 26ms/step - loss: 0.2063 - accuracy: 0.9258\n",
            "Epoch 4/4\n",
            "49/49 [==============================] - 2s 38ms/step - loss: 0.1777 - accuracy: 0.9356\n",
            "782/782 [==============================] - 2s 2ms/step - loss: 0.3006 - accuracy: 0.8811\n"
          ]
        }
      ]
    },
    {
      "cell_type": "code",
      "source": [
        "results"
      ],
      "metadata": {
        "colab": {
          "base_uri": "https://localhost:8080/"
        },
        "id": "VamZRvnsYqGw",
        "outputId": "993ccbdb-d38e-4516-a124-f25ef39f1f8d"
      },
      "execution_count": 35,
      "outputs": [
        {
          "output_type": "execute_result",
          "data": {
            "text/plain": [
              "[0.3006359934806824, 0.8811200261116028]"
            ]
          },
          "metadata": {},
          "execution_count": 35
        }
      ]
    },
    {
      "cell_type": "markdown",
      "source": [
        "### Using a trained model to generate predictions on new data"
      ],
      "metadata": {
        "id": "i0P_yrebY6EQ"
      }
    },
    {
      "cell_type": "code",
      "source": [
        "model.predict(x_test)"
      ],
      "metadata": {
        "colab": {
          "base_uri": "https://localhost:8080/"
        },
        "id": "5QPBqO-wZOYq",
        "outputId": "361ca351-1fff-4067-f8d0-49db732b5375"
      },
      "execution_count": 36,
      "outputs": [
        {
          "output_type": "stream",
          "name": "stdout",
          "text": [
            "782/782 [==============================] - 2s 2ms/step\n"
          ]
        },
        {
          "output_type": "execute_result",
          "data": {
            "text/plain": [
              "array([[0.24760409],\n",
              "       [0.99972486],\n",
              "       [0.891062  ],\n",
              "       ...,\n",
              "       [0.1343042 ],\n",
              "       [0.07047924],\n",
              "       [0.6068304 ]], dtype=float32)"
            ]
          },
          "metadata": {},
          "execution_count": 36
        }
      ]
    },
    {
      "cell_type": "markdown",
      "source": [
        "### Further experiments"
      ],
      "metadata": {
        "id": "TTWUjUuYZ559"
      }
    },
    {
      "cell_type": "code",
      "source": [
        "model = keras.Sequential([\n",
        "    layers.Dense(32, activation=\"tanh\"),\n",
        "    layers.Dense(1, activation=\"sigmoid\")\n",
        "])\n",
        "model.compile(optimizer=\"rmsprop\",\n",
        "              loss=\"mse\",\n",
        "              metrics=[\"accuracy\"])\n",
        "\n",
        "history = model.fit(partial_x_train,\n",
        "                    partial_y_train,\n",
        "                    epochs=20,\n",
        "                    batch_size=512,\n",
        "                    validation_data=(x_val, y_val))\n",
        "results = model.evaluate(x_test, y_test)"
      ],
      "metadata": {
        "colab": {
          "base_uri": "https://localhost:8080/"
        },
        "id": "uZWGbP_TZQeB",
        "outputId": "a128ce50-1a2a-446a-9fe2-fd147c97a82a"
      },
      "execution_count": 37,
      "outputs": [
        {
          "output_type": "stream",
          "name": "stdout",
          "text": [
            "Epoch 1/20\n",
            "30/30 [==============================] - 2s 63ms/step - loss: 0.1657 - accuracy: 0.7829 - val_loss: 0.1198 - val_accuracy: 0.8653\n",
            "Epoch 2/20\n",
            "30/30 [==============================] - 2s 62ms/step - loss: 0.1012 - accuracy: 0.8881 - val_loss: 0.0978 - val_accuracy: 0.8817\n",
            "Epoch 3/20\n",
            "30/30 [==============================] - 2s 62ms/step - loss: 0.0790 - accuracy: 0.9097 - val_loss: 0.0894 - val_accuracy: 0.8862\n",
            "Epoch 4/20\n",
            "30/30 [==============================] - 1s 41ms/step - loss: 0.0691 - accuracy: 0.9203 - val_loss: 0.0887 - val_accuracy: 0.8826\n",
            "Epoch 5/20\n",
            "30/30 [==============================] - 1s 41ms/step - loss: 0.0593 - accuracy: 0.9319 - val_loss: 0.0869 - val_accuracy: 0.8819\n",
            "Epoch 6/20\n",
            "30/30 [==============================] - 1s 42ms/step - loss: 0.0524 - accuracy: 0.9421 - val_loss: 0.0905 - val_accuracy: 0.8767\n",
            "Epoch 7/20\n",
            "30/30 [==============================] - 1s 42ms/step - loss: 0.0474 - accuracy: 0.9469 - val_loss: 0.0847 - val_accuracy: 0.8863\n",
            "Epoch 8/20\n",
            "30/30 [==============================] - 1s 41ms/step - loss: 0.0427 - accuracy: 0.9547 - val_loss: 0.0840 - val_accuracy: 0.8829\n",
            "Epoch 9/20\n",
            "30/30 [==============================] - 1s 42ms/step - loss: 0.0392 - accuracy: 0.9594 - val_loss: 0.1043 - val_accuracy: 0.8590\n",
            "Epoch 10/20\n",
            "30/30 [==============================] - 1s 43ms/step - loss: 0.0366 - accuracy: 0.9613 - val_loss: 0.0854 - val_accuracy: 0.8827\n",
            "Epoch 11/20\n",
            "30/30 [==============================] - 2s 54ms/step - loss: 0.0339 - accuracy: 0.9645 - val_loss: 0.0931 - val_accuracy: 0.8729\n",
            "Epoch 12/20\n",
            "30/30 [==============================] - 2s 72ms/step - loss: 0.0307 - accuracy: 0.9689 - val_loss: 0.0930 - val_accuracy: 0.8741\n",
            "Epoch 13/20\n",
            "30/30 [==============================] - 1s 42ms/step - loss: 0.0284 - accuracy: 0.9725 - val_loss: 0.0888 - val_accuracy: 0.8789\n",
            "Epoch 14/20\n",
            "30/30 [==============================] - 1s 42ms/step - loss: 0.0257 - accuracy: 0.9754 - val_loss: 0.0931 - val_accuracy: 0.8741\n",
            "Epoch 15/20\n",
            "30/30 [==============================] - 1s 42ms/step - loss: 0.0244 - accuracy: 0.9768 - val_loss: 0.0972 - val_accuracy: 0.8733\n",
            "Epoch 16/20\n",
            "30/30 [==============================] - 2s 62ms/step - loss: 0.0227 - accuracy: 0.9785 - val_loss: 0.0928 - val_accuracy: 0.8734\n",
            "Epoch 17/20\n",
            "30/30 [==============================] - 2s 58ms/step - loss: 0.0211 - accuracy: 0.9799 - val_loss: 0.0957 - val_accuracy: 0.8717\n",
            "Epoch 18/20\n",
            "30/30 [==============================] - 1s 44ms/step - loss: 0.0185 - accuracy: 0.9841 - val_loss: 0.0966 - val_accuracy: 0.8712\n",
            "Epoch 19/20\n",
            "30/30 [==============================] - 2s 54ms/step - loss: 0.0181 - accuracy: 0.9837 - val_loss: 0.0977 - val_accuracy: 0.8718\n",
            "Epoch 20/20\n",
            "30/30 [==============================] - 2s 73ms/step - loss: 0.0173 - accuracy: 0.9847 - val_loss: 0.1021 - val_accuracy: 0.8680\n",
            "782/782 [==============================] - 2s 2ms/step - loss: 0.1108 - accuracy: 0.8567\n"
          ]
        }
      ]
    },
    {
      "cell_type": "code",
      "source": [
        "model = keras.Sequential([\n",
        "    layers.Dense(32, activation=\"relu\"),\n",
        "    layers.Dense(32, activation=\"relu\"),\n",
        "    layers.Dense(32, activation=\"relu\"),\n",
        "    layers.Dense(1, activation=\"sigmoid\")\n",
        "])\n",
        "model.compile(optimizer=\"rmsprop\",\n",
        "              loss=\"mse\",\n",
        "              metrics=[\"accuracy\"])\n",
        "\n",
        "history = model.fit(partial_x_train,\n",
        "                    partial_y_train,\n",
        "                    epochs=20,\n",
        "                    batch_size=512,\n",
        "                    validation_data=(x_val, y_val))\n",
        "results = model.evaluate(x_test, y_test)"
      ],
      "metadata": {
        "colab": {
          "base_uri": "https://localhost:8080/"
        },
        "id": "S-BxvkPTaGJP",
        "outputId": "f1120fac-8fed-4ae3-84dd-a18d06ee5cbe"
      },
      "execution_count": 38,
      "outputs": [
        {
          "output_type": "stream",
          "name": "stdout",
          "text": [
            "Epoch 1/20\n",
            "30/30 [==============================] - 4s 67ms/step - loss: 0.1937 - accuracy: 0.7164 - val_loss: 0.1436 - val_accuracy: 0.8122\n",
            "Epoch 2/20\n",
            "30/30 [==============================] - 2s 73ms/step - loss: 0.1061 - accuracy: 0.8735 - val_loss: 0.0973 - val_accuracy: 0.8792\n",
            "Epoch 3/20\n",
            "30/30 [==============================] - 2s 52ms/step - loss: 0.0777 - accuracy: 0.9043 - val_loss: 0.0957 - val_accuracy: 0.8700\n",
            "Epoch 4/20\n",
            "30/30 [==============================] - 1s 43ms/step - loss: 0.0614 - accuracy: 0.9272 - val_loss: 0.1035 - val_accuracy: 0.8610\n",
            "Epoch 5/20\n",
            "30/30 [==============================] - 1s 41ms/step - loss: 0.0541 - accuracy: 0.9345 - val_loss: 0.0869 - val_accuracy: 0.8837\n",
            "Epoch 6/20\n",
            "30/30 [==============================] - 1s 42ms/step - loss: 0.0459 - accuracy: 0.9457 - val_loss: 0.0937 - val_accuracy: 0.8753\n",
            "Epoch 7/20\n",
            "30/30 [==============================] - 1s 44ms/step - loss: 0.0393 - accuracy: 0.9541 - val_loss: 0.0931 - val_accuracy: 0.8746\n",
            "Epoch 8/20\n",
            "30/30 [==============================] - 1s 42ms/step - loss: 0.0370 - accuracy: 0.9571 - val_loss: 0.0910 - val_accuracy: 0.8790\n",
            "Epoch 9/20\n",
            "30/30 [==============================] - 1s 41ms/step - loss: 0.0309 - accuracy: 0.9653 - val_loss: 0.1054 - val_accuracy: 0.8638\n",
            "Epoch 10/20\n",
            "30/30 [==============================] - 1s 42ms/step - loss: 0.0262 - accuracy: 0.9723 - val_loss: 0.0905 - val_accuracy: 0.8801\n",
            "Epoch 11/20\n",
            "30/30 [==============================] - 2s 68ms/step - loss: 0.0228 - accuracy: 0.9765 - val_loss: 0.1037 - val_accuracy: 0.8689\n",
            "Epoch 12/20\n",
            "30/30 [==============================] - 2s 57ms/step - loss: 0.0208 - accuracy: 0.9787 - val_loss: 0.1004 - val_accuracy: 0.8721\n",
            "Epoch 13/20\n",
            "30/30 [==============================] - 1s 43ms/step - loss: 0.0211 - accuracy: 0.9781 - val_loss: 0.0969 - val_accuracy: 0.8757\n",
            "Epoch 14/20\n",
            "30/30 [==============================] - 1s 44ms/step - loss: 0.0179 - accuracy: 0.9801 - val_loss: 0.0993 - val_accuracy: 0.8736\n",
            "Epoch 15/20\n",
            "30/30 [==============================] - 1s 43ms/step - loss: 0.0160 - accuracy: 0.9826 - val_loss: 0.0992 - val_accuracy: 0.8761\n",
            "Epoch 16/20\n",
            "30/30 [==============================] - 1s 45ms/step - loss: 0.0108 - accuracy: 0.9903 - val_loss: 0.1380 - val_accuracy: 0.8362\n",
            "Epoch 17/20\n",
            "30/30 [==============================] - 1s 43ms/step - loss: 0.0120 - accuracy: 0.9881 - val_loss: 0.1022 - val_accuracy: 0.8765\n",
            "Epoch 18/20\n",
            "30/30 [==============================] - 1s 44ms/step - loss: 0.0140 - accuracy: 0.9847 - val_loss: 0.1034 - val_accuracy: 0.8748\n",
            "Epoch 19/20\n",
            "30/30 [==============================] - 1s 42ms/step - loss: 0.0140 - accuracy: 0.9846 - val_loss: 0.1047 - val_accuracy: 0.8739\n",
            "Epoch 20/20\n",
            "30/30 [==============================] - 2s 68ms/step - loss: 0.0078 - accuracy: 0.9928 - val_loss: 0.1058 - val_accuracy: 0.8733\n",
            "782/782 [==============================] - 2s 2ms/step - loss: 0.1135 - accuracy: 0.8636\n"
          ]
        }
      ]
    },
    {
      "cell_type": "code",
      "source": [
        "model = keras.Sequential([\n",
        "    layers.Dense(32, activation=\"relu\"),\n",
        "    layers.Dense(32, activation=\"relu\"),\n",
        "    layers.Dense(1, activation=\"sigmoid\")\n",
        "])\n",
        "model.compile(optimizer=\"rmsprop\",\n",
        "              loss=\"binary_crossentropy\",\n",
        "              metrics=[\"accuracy\"])\n",
        "\n",
        "history = model.fit(partial_x_train,\n",
        "                    partial_y_train,\n",
        "                    epochs=20,\n",
        "                    batch_size=512,\n",
        "                    validation_data=(x_val, y_val))\n",
        "results = model.evaluate(x_test, y_test)"
      ],
      "metadata": {
        "colab": {
          "base_uri": "https://localhost:8080/"
        },
        "id": "1qiPm8g9aX7Z",
        "outputId": "534f5238-3148-42d4-c225-45ce5f6c44e2"
      },
      "execution_count": 39,
      "outputs": [
        {
          "output_type": "stream",
          "name": "stdout",
          "text": [
            "Epoch 1/20\n",
            "30/30 [==============================] - 4s 85ms/step - loss: 0.5198 - accuracy: 0.7589 - val_loss: 0.3684 - val_accuracy: 0.8691\n",
            "Epoch 2/20\n",
            "30/30 [==============================] - 2s 60ms/step - loss: 0.3034 - accuracy: 0.8943 - val_loss: 0.3108 - val_accuracy: 0.8783\n",
            "Epoch 3/20\n",
            "30/30 [==============================] - 2s 55ms/step - loss: 0.2272 - accuracy: 0.9175 - val_loss: 0.2837 - val_accuracy: 0.8850\n",
            "Epoch 4/20\n",
            "30/30 [==============================] - 1s 45ms/step - loss: 0.1838 - accuracy: 0.9355 - val_loss: 0.2756 - val_accuracy: 0.8891\n",
            "Epoch 5/20\n",
            "30/30 [==============================] - 1s 42ms/step - loss: 0.1553 - accuracy: 0.9465 - val_loss: 0.2975 - val_accuracy: 0.8847\n",
            "Epoch 6/20\n",
            "30/30 [==============================] - 1s 42ms/step - loss: 0.1330 - accuracy: 0.9539 - val_loss: 0.3116 - val_accuracy: 0.8763\n",
            "Epoch 7/20\n",
            "30/30 [==============================] - 1s 45ms/step - loss: 0.1121 - accuracy: 0.9646 - val_loss: 0.3487 - val_accuracy: 0.8690\n",
            "Epoch 8/20\n",
            "30/30 [==============================] - 1s 42ms/step - loss: 0.1000 - accuracy: 0.9668 - val_loss: 0.3276 - val_accuracy: 0.8799\n",
            "Epoch 9/20\n",
            "30/30 [==============================] - 2s 58ms/step - loss: 0.0833 - accuracy: 0.9748 - val_loss: 0.3477 - val_accuracy: 0.8762\n",
            "Epoch 10/20\n",
            "30/30 [==============================] - 4s 126ms/step - loss: 0.0723 - accuracy: 0.9785 - val_loss: 0.3700 - val_accuracy: 0.8802\n",
            "Epoch 11/20\n",
            "30/30 [==============================] - 1s 44ms/step - loss: 0.0600 - accuracy: 0.9841 - val_loss: 0.4771 - val_accuracy: 0.8627\n",
            "Epoch 12/20\n",
            "30/30 [==============================] - 1s 42ms/step - loss: 0.0490 - accuracy: 0.9875 - val_loss: 0.4109 - val_accuracy: 0.8740\n",
            "Epoch 13/20\n",
            "30/30 [==============================] - 1s 42ms/step - loss: 0.0449 - accuracy: 0.9885 - val_loss: 0.4436 - val_accuracy: 0.8694\n",
            "Epoch 14/20\n",
            "30/30 [==============================] - 1s 43ms/step - loss: 0.0429 - accuracy: 0.9886 - val_loss: 0.4583 - val_accuracy: 0.8729\n",
            "Epoch 15/20\n",
            "30/30 [==============================] - 1s 43ms/step - loss: 0.0352 - accuracy: 0.9908 - val_loss: 0.4837 - val_accuracy: 0.8716\n",
            "Epoch 16/20\n",
            "30/30 [==============================] - 1s 43ms/step - loss: 0.0243 - accuracy: 0.9951 - val_loss: 0.6410 - val_accuracy: 0.8565\n",
            "Epoch 17/20\n",
            "30/30 [==============================] - 1s 43ms/step - loss: 0.0163 - accuracy: 0.9983 - val_loss: 0.5322 - val_accuracy: 0.8711\n",
            "Epoch 18/20\n",
            "30/30 [==============================] - 2s 61ms/step - loss: 0.0211 - accuracy: 0.9951 - val_loss: 0.5902 - val_accuracy: 0.8593\n",
            "Epoch 19/20\n",
            "30/30 [==============================] - 2s 79ms/step - loss: 0.0262 - accuracy: 0.9926 - val_loss: 0.5767 - val_accuracy: 0.8697\n",
            "Epoch 20/20\n",
            "30/30 [==============================] - 1s 48ms/step - loss: 0.0081 - accuracy: 0.9998 - val_loss: 0.6021 - val_accuracy: 0.8709\n",
            "782/782 [==============================] - 2s 3ms/step - loss: 0.6468 - accuracy: 0.8592\n"
          ]
        }
      ]
    },
    {
      "cell_type": "markdown",
      "source": [
        "### Wrapping up"
      ],
      "metadata": {
        "id": "7FmI3oGpbUtw"
      }
    },
    {
      "cell_type": "markdown",
      "source": [
        "Here’s what you should take away from this example:\n",
        "* You usually need to do quite a bit of preprocessing on your raw data in order to\n",
        "be able to feed it—as tensors—into a neural network. Sequences of words can\n",
        "be encoded as binary vectors, but there are other encoding options too.\n",
        "* Stacks of Dense layers with relu activations can solve a wide range of problems\n",
        "(including sentiment classification), and you’ll likely use them frequently.\n",
        "* In a binary classification problem (two output classes), your model should end\n",
        "with a Dense layer with one unit and a sigmoid activation: the output of your\n",
        "model should be a scalar between 0 and 1, encoding a probability.\n",
        "* With such a scalar sigmoid output on a binary classification problem, the loss\n",
        "function you should use is binary_crossentropy.\n",
        "* The rmsprop optimizer is generally a good enough choice, whatever your problem. That’s one less thing for you to worry about.\n",
        "* As they get better on their training data, neural networks eventually start overfitting and end up obtaining increasingly worse results on data they’ve never\n",
        "seen before. Be sure to always monitor performance on data that is outside of\n",
        "the training set."
      ],
      "metadata": {
        "id": "lxFQrJpLbZAF"
      }
    },
    {
      "cell_type": "markdown",
      "source": [
        "## Classifying newswires: A multiclass classification example"
      ],
      "metadata": {
        "id": "kOwCR217bgH5"
      }
    },
    {
      "cell_type": "markdown",
      "source": [
        "### The Reuters dataset"
      ],
      "metadata": {
        "id": "1J_NlokkbjoR"
      }
    },
    {
      "cell_type": "markdown",
      "source": [
        "**Loading the Reuters dataset**"
      ],
      "metadata": {
        "id": "1J-5apupcWqY"
      }
    },
    {
      "cell_type": "code",
      "source": [
        "from tensorflow.keras.datasets import reuters\n",
        "(train_data, train_labels), (test_data, test_labels) = reuters.load_data(\n",
        "    num_words=10000)"
      ],
      "metadata": {
        "colab": {
          "base_uri": "https://localhost:8080/"
        },
        "id": "l0euSmhhcX_R",
        "outputId": "aebb7139-88b5-4527-d653-823a33497faf"
      },
      "execution_count": 40,
      "outputs": [
        {
          "output_type": "stream",
          "name": "stdout",
          "text": [
            "Downloading data from https://storage.googleapis.com/tensorflow/tf-keras-datasets/reuters.npz\n",
            "2110848/2110848 [==============================] - 1s 0us/step\n"
          ]
        }
      ]
    },
    {
      "cell_type": "code",
      "source": [
        "len(train_data)"
      ],
      "metadata": {
        "colab": {
          "base_uri": "https://localhost:8080/"
        },
        "id": "cMf-gSGOcYxt",
        "outputId": "5b7962f6-fa21-432e-ea42-d57fbce6e7fc"
      },
      "execution_count": 41,
      "outputs": [
        {
          "output_type": "execute_result",
          "data": {
            "text/plain": [
              "8982"
            ]
          },
          "metadata": {},
          "execution_count": 41
        }
      ]
    },
    {
      "cell_type": "code",
      "source": [
        "len(test_data)"
      ],
      "metadata": {
        "colab": {
          "base_uri": "https://localhost:8080/"
        },
        "id": "Tecw885QchER",
        "outputId": "9970894e-bf8d-4943-f1a7-ef9885ca6131"
      },
      "execution_count": 42,
      "outputs": [
        {
          "output_type": "execute_result",
          "data": {
            "text/plain": [
              "2246"
            ]
          },
          "metadata": {},
          "execution_count": 42
        }
      ]
    },
    {
      "cell_type": "code",
      "source": [
        "train_data[10]"
      ],
      "metadata": {
        "colab": {
          "base_uri": "https://localhost:8080/"
        },
        "id": "SWwQFIAPciQR",
        "outputId": "eeeb5694-ec46-4eb6-ab5c-0051cdccd52b"
      },
      "execution_count": 43,
      "outputs": [
        {
          "output_type": "execute_result",
          "data": {
            "text/plain": [
              "[1,\n",
              " 245,\n",
              " 273,\n",
              " 207,\n",
              " 156,\n",
              " 53,\n",
              " 74,\n",
              " 160,\n",
              " 26,\n",
              " 14,\n",
              " 46,\n",
              " 296,\n",
              " 26,\n",
              " 39,\n",
              " 74,\n",
              " 2979,\n",
              " 3554,\n",
              " 14,\n",
              " 46,\n",
              " 4689,\n",
              " 4329,\n",
              " 86,\n",
              " 61,\n",
              " 3499,\n",
              " 4795,\n",
              " 14,\n",
              " 61,\n",
              " 451,\n",
              " 4329,\n",
              " 17,\n",
              " 12]"
            ]
          },
          "metadata": {},
          "execution_count": 43
        }
      ]
    },
    {
      "cell_type": "markdown",
      "source": [
        "**Decoding newswires back to text**"
      ],
      "metadata": {
        "id": "suzFv6fSclTZ"
      }
    },
    {
      "cell_type": "code",
      "source": [
        "word_index = reuters.get_word_index()\n",
        "reverse_word_index = dict([(value, key) for (key, value) in word_index.items()])\n",
        "decoded_newswire = \" \".join([reverse_word_index.get(i - 3, \"?\") for i in\n",
        "    train_data[0]])"
      ],
      "metadata": {
        "id": "e4h9HmJdc0lr"
      },
      "execution_count": 52,
      "outputs": []
    },
    {
      "cell_type": "code",
      "source": [
        "train_labels[10]"
      ],
      "metadata": {
        "colab": {
          "base_uri": "https://localhost:8080/"
        },
        "id": "5pvXFlYTc2ko",
        "outputId": "39444105-27e5-4d06-a37b-f43440db9849"
      },
      "execution_count": 54,
      "outputs": [
        {
          "output_type": "execute_result",
          "data": {
            "text/plain": [
              "3"
            ]
          },
          "metadata": {},
          "execution_count": 54
        }
      ]
    },
    {
      "cell_type": "markdown",
      "source": [
        "### Preparing the data"
      ],
      "metadata": {
        "id": "bhC8hFKnc5VQ"
      }
    },
    {
      "cell_type": "markdown",
      "source": [
        "**Encoding the input data**"
      ],
      "metadata": {
        "id": "JKZOr3PwdlUx"
      }
    },
    {
      "cell_type": "code",
      "source": [
        "x_train = vectorize_sequences(train_data)\n",
        "x_test = vectorize_sequences(test_data)"
      ],
      "metadata": {
        "id": "eL0Nzviidm6h"
      },
      "execution_count": 55,
      "outputs": []
    },
    {
      "cell_type": "markdown",
      "source": [
        "**Encoding the labels**"
      ],
      "metadata": {
        "id": "GZlG6s3vdn-h"
      }
    },
    {
      "cell_type": "code",
      "source": [
        "def to_one_hot(labels, dimension=46):\n",
        "    results = np.zeros((len(labels), dimension))\n",
        "    for i, label in enumerate(labels):\n",
        "        results[i, label] = 1.\n",
        "    return results\n",
        "y_train = to_one_hot(train_labels)\n",
        "y_test = to_one_hot(test_labels)"
      ],
      "metadata": {
        "id": "vyg69XpQd6fZ"
      },
      "execution_count": 57,
      "outputs": []
    },
    {
      "cell_type": "code",
      "source": [
        "from tensorflow.keras.utils import to_categorical\n",
        "y_train = to_categorical(train_labels)\n",
        "y_test = to_categorical(test_labels)"
      ],
      "metadata": {
        "id": "u_RxuCm4d8hp"
      },
      "execution_count": 61,
      "outputs": []
    },
    {
      "cell_type": "markdown",
      "source": [
        "### Building your model"
      ],
      "metadata": {
        "id": "fhcFxcEleCGT"
      }
    },
    {
      "cell_type": "markdown",
      "source": [
        "**Model definition**"
      ],
      "metadata": {
        "id": "eMD4Zy9gey6y"
      }
    },
    {
      "cell_type": "code",
      "source": [
        "model = keras.Sequential([\n",
        "    layers.Dense(64, activation=\"relu\"),\n",
        "    layers.Dense(64, activation=\"relu\"),\n",
        "    layers.Dense(46, activation=\"softmax\")\n",
        "])"
      ],
      "metadata": {
        "id": "pup6JmZre0Qq"
      },
      "execution_count": 62,
      "outputs": []
    },
    {
      "cell_type": "markdown",
      "source": [
        "**Compiling the model**"
      ],
      "metadata": {
        "id": "RDY3avZye1Tq"
      }
    },
    {
      "cell_type": "code",
      "source": [
        "model.compile(optimizer=\"rmsprop\",\n",
        "              loss=\"categorical_crossentropy\",\n",
        "              metrics=[\"accuracy\"])"
      ],
      "metadata": {
        "id": "x0EISoPRfOuB"
      },
      "execution_count": 63,
      "outputs": []
    },
    {
      "cell_type": "markdown",
      "source": [
        "### Validating your approach"
      ],
      "metadata": {
        "id": "hzZlnmzjfP4K"
      }
    },
    {
      "cell_type": "markdown",
      "source": [
        "**Setting aside a validation set**"
      ],
      "metadata": {
        "id": "vK30Di5cfWqB"
      }
    },
    {
      "cell_type": "code",
      "source": [
        "x_val = x_train[:1000]\n",
        "partial_x_train = x_train[1000:]\n",
        "y_val = y_train[:1000]\n",
        "partial_y_train = y_train[1000:]"
      ],
      "metadata": {
        "id": "MX7pECB5fYKg"
      },
      "execution_count": 64,
      "outputs": []
    },
    {
      "cell_type": "markdown",
      "source": [
        "**Training the model**"
      ],
      "metadata": {
        "id": "8lPJ68csfZGV"
      }
    },
    {
      "cell_type": "code",
      "source": [
        "history = model.fit(partial_x_train,\n",
        "                    partial_y_train,\n",
        "                    epochs=20,\n",
        "                    batch_size=512,\n",
        "                    validation_data=(x_val, y_val))"
      ],
      "metadata": {
        "colab": {
          "base_uri": "https://localhost:8080/"
        },
        "id": "T0ipRMQKfdHZ",
        "outputId": "e0b6c0a7-539d-4b65-bb17-8bdc24c677e8"
      },
      "execution_count": 65,
      "outputs": [
        {
          "output_type": "stream",
          "name": "stdout",
          "text": [
            "Epoch 1/20\n",
            "16/16 [==============================] - 2s 78ms/step - loss: 2.7415 - accuracy: 0.4753 - val_loss: 1.8626 - val_accuracy: 0.6170\n",
            "Epoch 2/20\n",
            "16/16 [==============================] - 1s 51ms/step - loss: 1.5761 - accuracy: 0.6700 - val_loss: 1.4099 - val_accuracy: 0.6920\n",
            "Epoch 3/20\n",
            "16/16 [==============================] - 1s 54ms/step - loss: 1.2059 - accuracy: 0.7400 - val_loss: 1.1964 - val_accuracy: 0.7330\n",
            "Epoch 4/20\n",
            "16/16 [==============================] - 1s 55ms/step - loss: 0.9887 - accuracy: 0.7869 - val_loss: 1.0718 - val_accuracy: 0.7680\n",
            "Epoch 5/20\n",
            "16/16 [==============================] - 1s 51ms/step - loss: 0.8187 - accuracy: 0.8255 - val_loss: 1.0027 - val_accuracy: 0.7820\n",
            "Epoch 6/20\n",
            "16/16 [==============================] - 1s 51ms/step - loss: 0.6852 - accuracy: 0.8534 - val_loss: 0.9505 - val_accuracy: 0.8030\n",
            "Epoch 7/20\n",
            "16/16 [==============================] - 1s 73ms/step - loss: 0.5767 - accuracy: 0.8794 - val_loss: 0.9122 - val_accuracy: 0.8100\n",
            "Epoch 8/20\n",
            "16/16 [==============================] - 1s 88ms/step - loss: 0.4891 - accuracy: 0.8980 - val_loss: 0.9051 - val_accuracy: 0.8100\n",
            "Epoch 9/20\n",
            "16/16 [==============================] - 1s 73ms/step - loss: 0.4179 - accuracy: 0.9110 - val_loss: 0.8817 - val_accuracy: 0.8210\n",
            "Epoch 10/20\n",
            "16/16 [==============================] - 1s 50ms/step - loss: 0.3577 - accuracy: 0.9245 - val_loss: 0.8697 - val_accuracy: 0.8230\n",
            "Epoch 11/20\n",
            "16/16 [==============================] - 1s 50ms/step - loss: 0.3118 - accuracy: 0.9321 - val_loss: 0.8499 - val_accuracy: 0.8240\n",
            "Epoch 12/20\n",
            "16/16 [==============================] - 1s 52ms/step - loss: 0.2711 - accuracy: 0.9402 - val_loss: 0.9042 - val_accuracy: 0.8210\n",
            "Epoch 13/20\n",
            "16/16 [==============================] - 1s 49ms/step - loss: 0.2420 - accuracy: 0.9446 - val_loss: 0.8840 - val_accuracy: 0.8130\n",
            "Epoch 14/20\n",
            "16/16 [==============================] - 1s 52ms/step - loss: 0.2175 - accuracy: 0.9478 - val_loss: 0.8746 - val_accuracy: 0.8240\n",
            "Epoch 15/20\n",
            "16/16 [==============================] - 1s 51ms/step - loss: 0.1928 - accuracy: 0.9518 - val_loss: 0.8936 - val_accuracy: 0.8150\n",
            "Epoch 16/20\n",
            "16/16 [==============================] - 1s 50ms/step - loss: 0.1848 - accuracy: 0.9514 - val_loss: 0.8950 - val_accuracy: 0.8170\n",
            "Epoch 17/20\n",
            "16/16 [==============================] - 1s 50ms/step - loss: 0.1675 - accuracy: 0.9526 - val_loss: 0.8923 - val_accuracy: 0.8150\n",
            "Epoch 18/20\n",
            "16/16 [==============================] - 1s 50ms/step - loss: 0.1599 - accuracy: 0.9545 - val_loss: 0.9059 - val_accuracy: 0.8100\n",
            "Epoch 19/20\n",
            "16/16 [==============================] - 1s 49ms/step - loss: 0.1459 - accuracy: 0.9551 - val_loss: 0.9733 - val_accuracy: 0.8050\n",
            "Epoch 20/20\n",
            "16/16 [==============================] - 1s 52ms/step - loss: 0.1448 - accuracy: 0.9567 - val_loss: 0.9701 - val_accuracy: 0.8080\n"
          ]
        }
      ]
    },
    {
      "cell_type": "markdown",
      "source": [
        "**Plotting the training and validation loss**"
      ],
      "metadata": {
        "id": "oOu6PuvFfeW8"
      }
    },
    {
      "cell_type": "code",
      "source": [
        "loss = history.history[\"loss\"]\n",
        "val_loss = history.history[\"val_loss\"]\n",
        "epochs = range(1, len(loss) + 1)\n",
        "plt.plot(epochs, loss, \"bo\", label=\"Training loss\")\n",
        "plt.plot(epochs, val_loss, \"b\", label=\"Validation loss\")\n",
        "plt.title(\"Training and validation loss\")\n",
        "plt.xlabel(\"Epochs\")\n",
        "plt.ylabel(\"Loss\")\n",
        "plt.legend()\n",
        "plt.show()"
      ],
      "metadata": {
        "colab": {
          "base_uri": "https://localhost:8080/",
          "height": 472
        },
        "id": "9FFuUlBiiAWB",
        "outputId": "382f84d7-30c3-4018-bdc5-33e71f3f3293"
      },
      "execution_count": 66,
      "outputs": [
        {
          "output_type": "display_data",
          "data": {
            "text/plain": [
              "<Figure size 640x480 with 1 Axes>"
            ],
            "image/png": "[encoded data removed]"
          },
          "metadata": {}
        }
      ]
    },
    {
      "cell_type": "markdown",
      "source": [
        "**Plotting the training and validation accuracy**"
      ],
      "metadata": {
        "id": "77VQLCVGiGaf"
      }
    },
    {
      "cell_type": "code",
      "source": [
        "plt.clf()\n",
        "acc = history.history[\"accuracy\"]\n",
        "val_acc = history.history[\"val_accuracy\"]\n",
        "plt.plot(epochs, acc, \"bo\", label=\"Training accuracy\")\n",
        "plt.plot(epochs, val_acc, \"b\", label=\"Validation accuracy\")\n",
        "plt.title(\"Training and validation accuracy\")\n",
        "plt.xlabel(\"Epochs\")\n",
        "plt.ylabel(\"Accuracy\")\n",
        "plt.legend()\n",
        "plt.show()"
      ],
      "metadata": {
        "colab": {
          "base_uri": "https://localhost:8080/",
          "height": 472
        },
        "id": "DMCw1mP7iIF6",
        "outputId": "029fe16f-41d4-420c-e2a4-166ea6406a80"
      },
      "execution_count": 67,
      "outputs": [
        {
          "output_type": "display_data",
          "data": {
            "text/plain": [
              "<Figure size 640x480 with 1 Axes>"
            ],
            "image/png": "[encoded data removed]"
          },
          "metadata": {}
        }
      ]
    },
    {
      "cell_type": "markdown",
      "source": [
        "**Retraining a model from scratch**"
      ],
      "metadata": {
        "id": "xGK2goe5iJHA"
      }
    },
    {
      "cell_type": "code",
      "source": [
        "model = keras.Sequential([\n",
        "  layers.Dense(64, activation=\"relu\"),\n",
        "  layers.Dense(64, activation=\"relu\"),\n",
        "  layers.Dense(46, activation=\"softmax\")\n",
        "])\n",
        "model.compile(optimizer=\"rmsprop\",\n",
        "              loss=\"categorical_crossentropy\",\n",
        "              metrics=[\"accuracy\"])\n",
        "model.fit(x_train,\n",
        "          y_train,\n",
        "          epochs=9,\n",
        "          batch_size=512)\n",
        "results = model.evaluate(x_test, y_test)"
      ],
      "metadata": {
        "colab": {
          "base_uri": "https://localhost:8080/"
        },
        "id": "C2TkFbz_idOP",
        "outputId": "6fc6f1bf-80c1-4ac2-a5c1-428d5cd59565"
      },
      "execution_count": 68,
      "outputs": [
        {
          "output_type": "stream",
          "name": "stdout",
          "text": [
            "Epoch 1/9\n",
            "18/18 [==============================] - 2s 47ms/step - loss: 2.6163 - accuracy: 0.5161\n",
            "Epoch 2/9\n",
            "18/18 [==============================] - 1s 48ms/step - loss: 1.4652 - accuracy: 0.6846\n",
            "Epoch 3/9\n",
            "18/18 [==============================] - 1s 47ms/step - loss: 1.1213 - accuracy: 0.7606\n",
            "Epoch 4/9\n",
            "18/18 [==============================] - 1s 47ms/step - loss: 0.9068 - accuracy: 0.8076\n",
            "Epoch 5/9\n",
            "18/18 [==============================] - 1s 47ms/step - loss: 0.7516 - accuracy: 0.8348\n",
            "Epoch 6/9\n",
            "18/18 [==============================] - 1s 47ms/step - loss: 0.6146 - accuracy: 0.8658\n",
            "Epoch 7/9\n",
            "18/18 [==============================] - 1s 45ms/step - loss: 0.5092 - accuracy: 0.8927\n",
            "Epoch 8/9\n",
            "18/18 [==============================] - 1s 79ms/step - loss: 0.4282 - accuracy: 0.9104\n",
            "Epoch 9/9\n",
            "18/18 [==============================] - 1s 77ms/step - loss: 0.3634 - accuracy: 0.9241\n",
            "71/71 [==============================] - 0s 3ms/step - loss: 0.9085 - accuracy: 0.7921\n"
          ]
        }
      ]
    },
    {
      "cell_type": "code",
      "source": [
        "results"
      ],
      "metadata": {
        "colab": {
          "base_uri": "https://localhost:8080/"
        },
        "id": "X3Qk-9eCie0B",
        "outputId": "aab4e651-4e85-478e-8b45-5a1f0f64096b"
      },
      "execution_count": 69,
      "outputs": [
        {
          "output_type": "execute_result",
          "data": {
            "text/plain": [
              "[0.9085459113121033, 0.7920747995376587]"
            ]
          },
          "metadata": {},
          "execution_count": 69
        }
      ]
    },
    {
      "cell_type": "code",
      "source": [
        "import copy\n",
        "test_labels_copy = copy.copy(test_labels)\n",
        "np.random.shuffle(test_labels_copy)\n",
        "hits_array = np.array(test_labels) == np.array(test_labels_copy)\n",
        "hits_array.mean()"
      ],
      "metadata": {
        "colab": {
          "base_uri": "https://localhost:8080/"
        },
        "id": "hvZYGzCuilnj",
        "outputId": "18f6fe68-e494-4106-e0eb-a64710bed459"
      },
      "execution_count": 70,
      "outputs": [
        {
          "output_type": "execute_result",
          "data": {
            "text/plain": [
              "0.19145146927871773"
            ]
          },
          "metadata": {},
          "execution_count": 70
        }
      ]
    },
    {
      "cell_type": "markdown",
      "source": [
        "### Generating predictions on new data"
      ],
      "metadata": {
        "id": "DK1GTbMtjHaM"
      }
    },
    {
      "cell_type": "code",
      "source": [
        "predictions = model.predict(x_test)"
      ],
      "metadata": {
        "colab": {
          "base_uri": "https://localhost:8080/"
        },
        "id": "grt0285pjYGB",
        "outputId": "d99be162-86ba-49bc-95ab-8adee92f5762"
      },
      "execution_count": 71,
      "outputs": [
        {
          "output_type": "stream",
          "name": "stdout",
          "text": [
            "71/71 [==============================] - 0s 3ms/step\n"
          ]
        }
      ]
    },
    {
      "cell_type": "code",
      "source": [
        "predictions[0].shape"
      ],
      "metadata": {
        "colab": {
          "base_uri": "https://localhost:8080/"
        },
        "id": "6ghcIcFvjZOo",
        "outputId": "66e8eb7a-d869-49ea-ef49-6cf2937311c3"
      },
      "execution_count": 72,
      "outputs": [
        {
          "output_type": "execute_result",
          "data": {
            "text/plain": [
              "(46,)"
            ]
          },
          "metadata": {},
          "execution_count": 72
        }
      ]
    },
    {
      "cell_type": "code",
      "source": [
        "np.sum(predictions[0])"
      ],
      "metadata": {
        "colab": {
          "base_uri": "https://localhost:8080/"
        },
        "id": "R8oDyaLgjeJC",
        "outputId": "f1a7ab76-da45-40ca-c67a-483eae0f30e8"
      },
      "execution_count": 73,
      "outputs": [
        {
          "output_type": "execute_result",
          "data": {
            "text/plain": [
              "0.9999999"
            ]
          },
          "metadata": {},
          "execution_count": 73
        }
      ]
    },
    {
      "cell_type": "code",
      "source": [
        "np.argmax(predictions[0])"
      ],
      "metadata": {
        "colab": {
          "base_uri": "https://localhost:8080/"
        },
        "id": "ukjdZjyQjjhQ",
        "outputId": "c1f0c92f-6202-4278-908f-0d7c876017e3"
      },
      "execution_count": 74,
      "outputs": [
        {
          "output_type": "execute_result",
          "data": {
            "text/plain": [
              "3"
            ]
          },
          "metadata": {},
          "execution_count": 74
        }
      ]
    },
    {
      "cell_type": "markdown",
      "source": [
        "### A different way to handle the labels and the loss"
      ],
      "metadata": {
        "id": "TgfUJOuijpyo"
      }
    },
    {
      "cell_type": "code",
      "source": [
        "y_train = np.array(train_labels)\n",
        "y_test = np.array(test_labels)"
      ],
      "metadata": {
        "id": "lwKdo2RYj0wr"
      },
      "execution_count": 75,
      "outputs": []
    },
    {
      "cell_type": "code",
      "source": [
        "model.compile(optimizer=\"rmsprop\",\n",
        "              loss=\"sparse_categorical_crossentropy\",\n",
        "              metrics=[\"accuracy\"])"
      ],
      "metadata": {
        "id": "e0hlvSaFj1kn"
      },
      "execution_count": 76,
      "outputs": []
    },
    {
      "cell_type": "markdown",
      "source": [
        "### The importance of having sufficiently large intermediate layers"
      ],
      "metadata": {
        "id": "T8K0IxZkj_1M"
      }
    },
    {
      "cell_type": "markdown",
      "source": [
        "**A model with an information bottleneck**"
      ],
      "metadata": {
        "id": "UVEh3GhFkK7T"
      }
    },
    {
      "cell_type": "code",
      "source": [
        "model = keras.Sequential([\n",
        "    layers.Dense(64, activation=\"relu\"),\n",
        "    layers.Dense(4, activation=\"relu\"),\n",
        "    layers.Dense(46, activation=\"softmax\")\n",
        "])\n",
        "model.compile(optimizer=\"rmsprop\",\n",
        "              loss=\"categorical_crossentropy\",\n",
        "              metrics=[\"accuracy\"])\n",
        "model.fit(partial_x_train,\n",
        "          partial_y_train,\n",
        "          epochs=20,\n",
        "          batch_size=128,\n",
        "          validation_data=(x_val, y_val))"
      ],
      "metadata": {
        "colab": {
          "base_uri": "https://localhost:8080/"
        },
        "id": "6-DfQiJRkMJp",
        "outputId": "3616ad82-99e0-4c17-e430-72d3aab044ba"
      },
      "execution_count": 77,
      "outputs": [
        {
          "output_type": "stream",
          "name": "stdout",
          "text": [
            "Epoch 1/20\n",
            "63/63 [==============================] - 2s 20ms/step - loss: 2.9555 - accuracy: 0.3133 - val_loss: 2.3056 - val_accuracy: 0.3590\n",
            "Epoch 2/20\n",
            "63/63 [==============================] - 1s 16ms/step - loss: 2.0004 - accuracy: 0.4318 - val_loss: 1.7760 - val_accuracy: 0.5590\n",
            "Epoch 3/20\n",
            "63/63 [==============================] - 1s 17ms/step - loss: 1.5758 - accuracy: 0.6031 - val_loss: 1.5202 - val_accuracy: 0.6310\n",
            "Epoch 4/20\n",
            "63/63 [==============================] - 1s 16ms/step - loss: 1.3100 - accuracy: 0.6774 - val_loss: 1.3951 - val_accuracy: 0.6750\n",
            "Epoch 5/20\n",
            "63/63 [==============================] - 1s 23ms/step - loss: 1.1490 - accuracy: 0.7141 - val_loss: 1.3411 - val_accuracy: 0.6850\n",
            "Epoch 6/20\n",
            "63/63 [==============================] - 2s 27ms/step - loss: 1.0379 - accuracy: 0.7323 - val_loss: 1.2989 - val_accuracy: 0.6910\n",
            "Epoch 7/20\n",
            "63/63 [==============================] - 1s 18ms/step - loss: 0.9503 - accuracy: 0.7547 - val_loss: 1.3099 - val_accuracy: 0.6920\n",
            "Epoch 8/20\n",
            "63/63 [==============================] - 1s 17ms/step - loss: 0.8793 - accuracy: 0.7709 - val_loss: 1.3070 - val_accuracy: 0.6980\n",
            "Epoch 9/20\n",
            "63/63 [==============================] - 1s 16ms/step - loss: 0.8169 - accuracy: 0.7813 - val_loss: 1.3143 - val_accuracy: 0.7010\n",
            "Epoch 10/20\n",
            "63/63 [==============================] - 1s 17ms/step - loss: 0.7622 - accuracy: 0.7934 - val_loss: 1.3055 - val_accuracy: 0.7050\n",
            "Epoch 11/20\n",
            "63/63 [==============================] - 1s 17ms/step - loss: 0.7150 - accuracy: 0.8058 - val_loss: 1.3350 - val_accuracy: 0.6980\n",
            "Epoch 12/20\n",
            "63/63 [==============================] - 1s 17ms/step - loss: 0.6736 - accuracy: 0.8203 - val_loss: 1.3404 - val_accuracy: 0.7040\n",
            "Epoch 13/20\n",
            "63/63 [==============================] - 1s 17ms/step - loss: 0.6378 - accuracy: 0.8281 - val_loss: 1.3583 - val_accuracy: 0.7080\n",
            "Epoch 14/20\n",
            "63/63 [==============================] - 1s 17ms/step - loss: 0.6033 - accuracy: 0.8360 - val_loss: 1.3995 - val_accuracy: 0.7080\n",
            "Epoch 15/20\n",
            "63/63 [==============================] - 1s 17ms/step - loss: 0.5732 - accuracy: 0.8459 - val_loss: 1.4530 - val_accuracy: 0.7050\n",
            "Epoch 16/20\n",
            "63/63 [==============================] - 1s 20ms/step - loss: 0.5491 - accuracy: 0.8502 - val_loss: 1.4765 - val_accuracy: 0.7010\n",
            "Epoch 17/20\n",
            "63/63 [==============================] - 2s 29ms/step - loss: 0.5269 - accuracy: 0.8535 - val_loss: 1.4932 - val_accuracy: 0.7070\n",
            "Epoch 18/20\n",
            "63/63 [==============================] - 1s 19ms/step - loss: 0.5048 - accuracy: 0.8608 - val_loss: 1.5409 - val_accuracy: 0.7010\n",
            "Epoch 19/20\n",
            "63/63 [==============================] - 1s 16ms/step - loss: 0.4854 - accuracy: 0.8649 - val_loss: 1.5780 - val_accuracy: 0.7030\n",
            "Epoch 20/20\n",
            "63/63 [==============================] - 1s 17ms/step - loss: 0.4670 - accuracy: 0.8673 - val_loss: 1.5923 - val_accuracy: 0.7100\n"
          ]
        },
        {
          "output_type": "execute_result",
          "data": {
            "text/plain": [
              "<keras.callbacks.History at 0x7fb99ed89e70>"
            ]
          },
          "metadata": {},
          "execution_count": 77
        }
      ]
    },
    {
      "cell_type": "markdown",
      "source": [
        "### Further experiments"
      ],
      "metadata": {
        "id": "WEGWVwoxkNsH"
      }
    },
    {
      "cell_type": "code",
      "source": [
        "model = keras.Sequential([\n",
        "    layers.Dense(128, activation=\"relu\"),\n",
        "    layers.Dense(128, activation=\"relu\"),\n",
        "    layers.Dense(46, activation=\"softmax\")\n",
        "])\n",
        "model.compile(optimizer=\"rmsprop\",\n",
        "              loss=\"categorical_crossentropy\",\n",
        "              metrics=[\"accuracy\"])\n",
        "model.fit(partial_x_train,\n",
        "          partial_y_train,\n",
        "          epochs=20,\n",
        "          batch_size=128,\n",
        "          validation_data=(x_val, y_val))"
      ],
      "metadata": {
        "colab": {
          "base_uri": "https://localhost:8080/"
        },
        "id": "idu43taM2Poe",
        "outputId": "22580607-3b52-467f-d67f-9aa0591e5a62"
      },
      "execution_count": 78,
      "outputs": [
        {
          "output_type": "stream",
          "name": "stdout",
          "text": [
            "Epoch 1/20\n",
            "63/63 [==============================] - 3s 34ms/step - loss: 1.6211 - accuracy: 0.6606 - val_loss: 1.1207 - val_accuracy: 0.7490\n",
            "Epoch 2/20\n",
            "63/63 [==============================] - 2s 27ms/step - loss: 0.8033 - accuracy: 0.8256 - val_loss: 0.9442 - val_accuracy: 0.7930\n",
            "Epoch 3/20\n",
            "63/63 [==============================] - 2s 26ms/step - loss: 0.4924 - accuracy: 0.8950 - val_loss: 0.8535 - val_accuracy: 0.8130\n",
            "Epoch 4/20\n",
            "63/63 [==============================] - 2s 26ms/step - loss: 0.3298 - accuracy: 0.9291 - val_loss: 0.8579 - val_accuracy: 0.8110\n",
            "Epoch 5/20\n",
            "63/63 [==============================] - 2s 27ms/step - loss: 0.2466 - accuracy: 0.9420 - val_loss: 0.8684 - val_accuracy: 0.8230\n",
            "Epoch 6/20\n",
            "63/63 [==============================] - 2s 30ms/step - loss: 0.2106 - accuracy: 0.9463 - val_loss: 0.9468 - val_accuracy: 0.7990\n",
            "Epoch 7/20\n",
            "63/63 [==============================] - 3s 41ms/step - loss: 0.1843 - accuracy: 0.9511 - val_loss: 0.9667 - val_accuracy: 0.8060\n",
            "Epoch 8/20\n",
            "63/63 [==============================] - 2s 27ms/step - loss: 0.1630 - accuracy: 0.9526 - val_loss: 0.9947 - val_accuracy: 0.8030\n",
            "Epoch 9/20\n",
            "63/63 [==============================] - 2s 27ms/step - loss: 0.1580 - accuracy: 0.9525 - val_loss: 0.9128 - val_accuracy: 0.8150\n",
            "Epoch 10/20\n",
            "63/63 [==============================] - 2s 28ms/step - loss: 0.1456 - accuracy: 0.9554 - val_loss: 0.9207 - val_accuracy: 0.8190\n",
            "Epoch 11/20\n",
            "63/63 [==============================] - 2s 26ms/step - loss: 0.1394 - accuracy: 0.9549 - val_loss: 0.9675 - val_accuracy: 0.8100\n",
            "Epoch 12/20\n",
            "63/63 [==============================] - 2s 28ms/step - loss: 0.1334 - accuracy: 0.9540 - val_loss: 0.9440 - val_accuracy: 0.8120\n",
            "Epoch 13/20\n",
            "63/63 [==============================] - 2s 34ms/step - loss: 0.1264 - accuracy: 0.9550 - val_loss: 0.9508 - val_accuracy: 0.8200\n",
            "Epoch 14/20\n",
            "63/63 [==============================] - 3s 41ms/step - loss: 0.1192 - accuracy: 0.9574 - val_loss: 1.0201 - val_accuracy: 0.8020\n",
            "Epoch 15/20\n",
            "63/63 [==============================] - 2s 26ms/step - loss: 0.1198 - accuracy: 0.9574 - val_loss: 0.9531 - val_accuracy: 0.8190\n",
            "Epoch 16/20\n",
            "63/63 [==============================] - 2s 26ms/step - loss: 0.1129 - accuracy: 0.9559 - val_loss: 0.9747 - val_accuracy: 0.8060\n",
            "Epoch 17/20\n",
            "63/63 [==============================] - 2s 26ms/step - loss: 0.1115 - accuracy: 0.9565 - val_loss: 1.0553 - val_accuracy: 0.7970\n",
            "Epoch 18/20\n",
            "63/63 [==============================] - 2s 27ms/step - loss: 0.1070 - accuracy: 0.9567 - val_loss: 0.9853 - val_accuracy: 0.8190\n",
            "Epoch 19/20\n",
            "63/63 [==============================] - 2s 27ms/step - loss: 0.1036 - accuracy: 0.9582 - val_loss: 0.9677 - val_accuracy: 0.8170\n",
            "Epoch 20/20\n",
            "63/63 [==============================] - 2s 39ms/step - loss: 0.1052 - accuracy: 0.9557 - val_loss: 0.9923 - val_accuracy: 0.8140\n"
          ]
        },
        {
          "output_type": "execute_result",
          "data": {
            "text/plain": [
              "<keras.callbacks.History at 0x7fb9a483b820>"
            ]
          },
          "metadata": {},
          "execution_count": 78
        }
      ]
    },
    {
      "cell_type": "code",
      "source": [
        "model = keras.Sequential([\n",
        "    layers.Dense(128, activation=\"relu\"),\n",
        "    layers.Dense(46, activation=\"softmax\")\n",
        "])\n",
        "model.compile(optimizer=\"rmsprop\",\n",
        "              loss=\"categorical_crossentropy\",\n",
        "              metrics=[\"accuracy\"])\n",
        "model.fit(partial_x_train,\n",
        "          partial_y_train,\n",
        "          epochs=20,\n",
        "          batch_size=128,\n",
        "          validation_data=(x_val, y_val))"
      ],
      "metadata": {
        "colab": {
          "base_uri": "https://localhost:8080/"
        },
        "id": "RjjuWPuH2gvy",
        "outputId": "e67c593a-95eb-436c-98dd-9b891eef0113"
      },
      "execution_count": 79,
      "outputs": [
        {
          "output_type": "stream",
          "name": "stdout",
          "text": [
            "Epoch 1/20\n",
            "63/63 [==============================] - 4s 56ms/step - loss: 1.6293 - accuracy: 0.6637 - val_loss: 1.1377 - val_accuracy: 0.7600\n",
            "Epoch 2/20\n",
            "63/63 [==============================] - 2s 27ms/step - loss: 0.7960 - accuracy: 0.8327 - val_loss: 0.8857 - val_accuracy: 0.8170\n",
            "Epoch 3/20\n",
            "63/63 [==============================] - 3s 44ms/step - loss: 0.5090 - accuracy: 0.8964 - val_loss: 0.8213 - val_accuracy: 0.8300\n",
            "Epoch 4/20\n",
            "63/63 [==============================] - 2s 26ms/step - loss: 0.3520 - accuracy: 0.9261 - val_loss: 0.7887 - val_accuracy: 0.8300\n",
            "Epoch 5/20\n",
            "63/63 [==============================] - 2s 26ms/step - loss: 0.2667 - accuracy: 0.9404 - val_loss: 0.8204 - val_accuracy: 0.8300\n",
            "Epoch 6/20\n",
            "63/63 [==============================] - 2s 28ms/step - loss: 0.2176 - accuracy: 0.9470 - val_loss: 0.8098 - val_accuracy: 0.8300\n",
            "Epoch 7/20\n",
            "63/63 [==============================] - 2s 26ms/step - loss: 0.1890 - accuracy: 0.9524 - val_loss: 0.8266 - val_accuracy: 0.8270\n",
            "Epoch 8/20\n",
            "63/63 [==============================] - 2s 26ms/step - loss: 0.1643 - accuracy: 0.9548 - val_loss: 0.8713 - val_accuracy: 0.8230\n",
            "Epoch 9/20\n",
            "63/63 [==============================] - 2s 28ms/step - loss: 0.1547 - accuracy: 0.9544 - val_loss: 0.8498 - val_accuracy: 0.8150\n",
            "Epoch 10/20\n",
            "63/63 [==============================] - 3s 45ms/step - loss: 0.1461 - accuracy: 0.9551 - val_loss: 0.8723 - val_accuracy: 0.8230\n",
            "Epoch 11/20\n",
            "63/63 [==============================] - 2s 27ms/step - loss: 0.1388 - accuracy: 0.9551 - val_loss: 0.9785 - val_accuracy: 0.7960\n",
            "Epoch 12/20\n",
            "63/63 [==============================] - 2s 26ms/step - loss: 0.1355 - accuracy: 0.9554 - val_loss: 0.9559 - val_accuracy: 0.7990\n",
            "Epoch 13/20\n",
            "63/63 [==============================] - 2s 27ms/step - loss: 0.1284 - accuracy: 0.9559 - val_loss: 0.9263 - val_accuracy: 0.8120\n",
            "Epoch 14/20\n",
            "63/63 [==============================] - 2s 27ms/step - loss: 0.1276 - accuracy: 0.9560 - val_loss: 0.9113 - val_accuracy: 0.8190\n",
            "Epoch 15/20\n",
            "63/63 [==============================] - 2s 27ms/step - loss: 0.1237 - accuracy: 0.9577 - val_loss: 0.9368 - val_accuracy: 0.8190\n",
            "Epoch 16/20\n",
            "63/63 [==============================] - 2s 28ms/step - loss: 0.1224 - accuracy: 0.9569 - val_loss: 0.9457 - val_accuracy: 0.8130\n",
            "Epoch 17/20\n",
            "63/63 [==============================] - 3s 45ms/step - loss: 0.1233 - accuracy: 0.9553 - val_loss: 0.9688 - val_accuracy: 0.8130\n",
            "Epoch 18/20\n",
            "63/63 [==============================] - 2s 27ms/step - loss: 0.1140 - accuracy: 0.9584 - val_loss: 0.9862 - val_accuracy: 0.8020\n",
            "Epoch 19/20\n",
            "63/63 [==============================] - 2s 27ms/step - loss: 0.1166 - accuracy: 0.9572 - val_loss: 0.9514 - val_accuracy: 0.8190\n",
            "Epoch 20/20\n",
            "63/63 [==============================] - 2s 26ms/step - loss: 0.1176 - accuracy: 0.9548 - val_loss: 0.9821 - val_accuracy: 0.8120\n"
          ]
        },
        {
          "output_type": "execute_result",
          "data": {
            "text/plain": [
              "<keras.callbacks.History at 0x7fb9a28d5210>"
            ]
          },
          "metadata": {},
          "execution_count": 79
        }
      ]
    },
    {
      "cell_type": "markdown",
      "source": [
        "### Wrapping up"
      ],
      "metadata": {
        "id": "EMjevWH62CCE"
      }
    },
    {
      "cell_type": "markdown",
      "source": [
        "Here’s what you should take away from this example:\n",
        "* If you’re trying to classify data points among _N_ classes, your model should end\n",
        "with a _Dense_ layer of size _N_.\n",
        "* In a single-label, multiclass classification problem, your model should end with\n",
        "a _softmax_ activation so that it will output a probability distribution over the _N_\n",
        "output classes.\n",
        "* Categorical crossentropy is almost always the loss function you should use for\n",
        "such problems. It minimizes the distance between the probability distributions\n",
        "output by the model and the true distribution of the targets.\n",
        "* There are two ways to handle labels in multiclass classification:\n",
        "  * Encoding the labels via categorical encoding (also known as one-hot encoding) and using _categorical_crossentropy_ as a loss function\n",
        "  * Encoding the labels as integers and using the _sparse_categorical_crossentropy_ loss function\n",
        "* If you need to classify data into a large number of categories, you should avoid\n",
        "creating information bottlenecks in your model due to intermediate layers that\n",
        "are too small."
      ],
      "metadata": {
        "id": "4al44lFwAoF8"
      }
    },
    {
      "cell_type": "markdown",
      "source": [
        "## Predicting house prices: A regression example"
      ],
      "metadata": {
        "id": "JthT7blN2Daw"
      }
    },
    {
      "cell_type": "markdown",
      "source": [
        "### The Boston Housing Price dataset"
      ],
      "metadata": {
        "id": "A_oeE7qb2FCS"
      }
    },
    {
      "cell_type": "markdown",
      "source": [
        "**Loading the Boston housing dataset**"
      ],
      "metadata": {
        "id": "SxPd9KrW2KjB"
      }
    },
    {
      "cell_type": "code",
      "source": [
        "from tensorflow.keras.datasets import boston_housing\n",
        "(train_data, train_targets), (test_data, test_targets) = boston_housing.load_data()"
      ],
      "metadata": {
        "colab": {
          "base_uri": "https://localhost:8080/"
        },
        "id": "rBWRmEcH2NRA",
        "outputId": "cdb75980-f68b-4d1d-8b94-ad01e77d6b6d"
      },
      "execution_count": 80,
      "outputs": [
        {
          "output_type": "stream",
          "name": "stdout",
          "text": [
            "Downloading data from https://storage.googleapis.com/tensorflow/tf-keras-datasets/boston_housing.npz\n",
            "57026/57026 [==============================] - 0s 0us/step\n"
          ]
        }
      ]
    },
    {
      "cell_type": "code",
      "source": [
        "train_data.shape"
      ],
      "metadata": {
        "colab": {
          "base_uri": "https://localhost:8080/"
        },
        "id": "s9FQ6QUV3b9K",
        "outputId": "4f574b44-d825-49e6-c9c0-144dc1a0fb65"
      },
      "execution_count": 81,
      "outputs": [
        {
          "output_type": "execute_result",
          "data": {
            "text/plain": [
              "(404, 13)"
            ]
          },
          "metadata": {},
          "execution_count": 81
        }
      ]
    },
    {
      "cell_type": "code",
      "source": [
        "test_data.shape"
      ],
      "metadata": {
        "colab": {
          "base_uri": "https://localhost:8080/"
        },
        "id": "36ks7ydv3dmh",
        "outputId": "73fd84f1-3cce-461d-b891-cddaee58f088"
      },
      "execution_count": 82,
      "outputs": [
        {
          "output_type": "execute_result",
          "data": {
            "text/plain": [
              "(102, 13)"
            ]
          },
          "metadata": {},
          "execution_count": 82
        }
      ]
    },
    {
      "cell_type": "code",
      "source": [
        "train_targets"
      ],
      "metadata": {
        "colab": {
          "base_uri": "https://localhost:8080/"
        },
        "id": "ChfgHvAS3eh9",
        "outputId": "b8b5963a-a717-4fb1-862e-f4cba0a752e0"
      },
      "execution_count": 83,
      "outputs": [
        {
          "output_type": "execute_result",
          "data": {
            "text/plain": [
              "array([15.2, 42.3, 50. , 21.1, 17.7, 18.5, 11.3, 15.6, 15.6, 14.4, 12.1,\n",
              "       17.9, 23.1, 19.9, 15.7,  8.8, 50. , 22.5, 24.1, 27.5, 10.9, 30.8,\n",
              "       32.9, 24. , 18.5, 13.3, 22.9, 34.7, 16.6, 17.5, 22.3, 16.1, 14.9,\n",
              "       23.1, 34.9, 25. , 13.9, 13.1, 20.4, 20. , 15.2, 24.7, 22.2, 16.7,\n",
              "       12.7, 15.6, 18.4, 21. , 30.1, 15.1, 18.7,  9.6, 31.5, 24.8, 19.1,\n",
              "       22. , 14.5, 11. , 32. , 29.4, 20.3, 24.4, 14.6, 19.5, 14.1, 14.3,\n",
              "       15.6, 10.5,  6.3, 19.3, 19.3, 13.4, 36.4, 17.8, 13.5, 16.5,  8.3,\n",
              "       14.3, 16. , 13.4, 28.6, 43.5, 20.2, 22. , 23. , 20.7, 12.5, 48.5,\n",
              "       14.6, 13.4, 23.7, 50. , 21.7, 39.8, 38.7, 22.2, 34.9, 22.5, 31.1,\n",
              "       28.7, 46. , 41.7, 21. , 26.6, 15. , 24.4, 13.3, 21.2, 11.7, 21.7,\n",
              "       19.4, 50. , 22.8, 19.7, 24.7, 36.2, 14.2, 18.9, 18.3, 20.6, 24.6,\n",
              "       18.2,  8.7, 44. , 10.4, 13.2, 21.2, 37. , 30.7, 22.9, 20. , 19.3,\n",
              "       31.7, 32. , 23.1, 18.8, 10.9, 50. , 19.6,  5. , 14.4, 19.8, 13.8,\n",
              "       19.6, 23.9, 24.5, 25. , 19.9, 17.2, 24.6, 13.5, 26.6, 21.4, 11.9,\n",
              "       22.6, 19.6,  8.5, 23.7, 23.1, 22.4, 20.5, 23.6, 18.4, 35.2, 23.1,\n",
              "       27.9, 20.6, 23.7, 28. , 13.6, 27.1, 23.6, 20.6, 18.2, 21.7, 17.1,\n",
              "        8.4, 25.3, 13.8, 22.2, 18.4, 20.7, 31.6, 30.5, 20.3,  8.8, 19.2,\n",
              "       19.4, 23.1, 23. , 14.8, 48.8, 22.6, 33.4, 21.1, 13.6, 32.2, 13.1,\n",
              "       23.4, 18.9, 23.9, 11.8, 23.3, 22.8, 19.6, 16.7, 13.4, 22.2, 20.4,\n",
              "       21.8, 26.4, 14.9, 24.1, 23.8, 12.3, 29.1, 21. , 19.5, 23.3, 23.8,\n",
              "       17.8, 11.5, 21.7, 19.9, 25. , 33.4, 28.5, 21.4, 24.3, 27.5, 33.1,\n",
              "       16.2, 23.3, 48.3, 22.9, 22.8, 13.1, 12.7, 22.6, 15. , 15.3, 10.5,\n",
              "       24. , 18.5, 21.7, 19.5, 33.2, 23.2,  5. , 19.1, 12.7, 22.3, 10.2,\n",
              "       13.9, 16.3, 17. , 20.1, 29.9, 17.2, 37.3, 45.4, 17.8, 23.2, 29. ,\n",
              "       22. , 18. , 17.4, 34.6, 20.1, 25. , 15.6, 24.8, 28.2, 21.2, 21.4,\n",
              "       23.8, 31. , 26.2, 17.4, 37.9, 17.5, 20. ,  8.3, 23.9,  8.4, 13.8,\n",
              "        7.2, 11.7, 17.1, 21.6, 50. , 16.1, 20.4, 20.6, 21.4, 20.6, 36.5,\n",
              "        8.5, 24.8, 10.8, 21.9, 17.3, 18.9, 36.2, 14.9, 18.2, 33.3, 21.8,\n",
              "       19.7, 31.6, 24.8, 19.4, 22.8,  7.5, 44.8, 16.8, 18.7, 50. , 50. ,\n",
              "       19.5, 20.1, 50. , 17.2, 20.8, 19.3, 41.3, 20.4, 20.5, 13.8, 16.5,\n",
              "       23.9, 20.6, 31.5, 23.3, 16.8, 14. , 33.8, 36.1, 12.8, 18.3, 18.7,\n",
              "       19.1, 29. , 30.1, 50. , 50. , 22. , 11.9, 37.6, 50. , 22.7, 20.8,\n",
              "       23.5, 27.9, 50. , 19.3, 23.9, 22.6, 15.2, 21.7, 19.2, 43.8, 20.3,\n",
              "       33.2, 19.9, 22.5, 32.7, 22. , 17.1, 19. , 15. , 16.1, 25.1, 23.7,\n",
              "       28.7, 37.2, 22.6, 16.4, 25. , 29.8, 22.1, 17.4, 18.1, 30.3, 17.5,\n",
              "       24.7, 12.6, 26.5, 28.7, 13.3, 10.4, 24.4, 23. , 20. , 17.8,  7. ,\n",
              "       11.8, 24.4, 13.8, 19.4, 25.2, 19.4, 19.4, 29.1])"
            ]
          },
          "metadata": {},
          "execution_count": 83
        }
      ]
    },
    {
      "cell_type": "markdown",
      "source": [
        "### Preparing the data"
      ],
      "metadata": {
        "id": "I4Uf1ovO3pGZ"
      }
    },
    {
      "cell_type": "markdown",
      "source": [
        "**Normalizing the data**"
      ],
      "metadata": {
        "id": "xj9YZQe84KHy"
      }
    },
    {
      "cell_type": "code",
      "source": [
        "mean = train_data.mean(axis=0)\n",
        "train_data -= mean\n",
        "std = train_data.std(axis=0)\n",
        "train_data /= std\n",
        "test_data -= mean\n",
        "test_data /= std"
      ],
      "metadata": {
        "id": "e1t3fUmF4Mv3"
      },
      "execution_count": 84,
      "outputs": []
    },
    {
      "cell_type": "markdown",
      "source": [
        "### Building your model"
      ],
      "metadata": {
        "id": "Jr5jU3Ib44Gs"
      }
    },
    {
      "cell_type": "markdown",
      "source": [
        "**Model definition**"
      ],
      "metadata": {
        "id": "ZAFmzwXu48AJ"
      }
    },
    {
      "cell_type": "code",
      "source": [
        "def build_model():\n",
        "    model = keras.Sequential([\n",
        "        layers.Dense(64, activation=\"relu\"),\n",
        "        layers.Dense(64, activation=\"relu\"),\n",
        "        layers.Dense(1)\n",
        "    ])\n",
        "    model.compile(optimizer=\"rmsprop\", loss=\"mse\", metrics=[\"mae\"])\n",
        "    return model"
      ],
      "metadata": {
        "id": "Zbdv63Qu6lrh"
      },
      "execution_count": 97,
      "outputs": []
    },
    {
      "cell_type": "markdown",
      "source": [
        "### Validating your approach using K-fold validation"
      ],
      "metadata": {
        "id": "ahITiduK6nsa"
      }
    },
    {
      "cell_type": "markdown",
      "source": [
        "**K-fold validation**"
      ],
      "metadata": {
        "id": "bsq6OJqJ7zWJ"
      }
    },
    {
      "cell_type": "code",
      "source": [
        "k = 4\n",
        "num_val_samples = len(train_data) // k\n",
        "num_epochs = 100\n",
        "all_scores = []\n",
        "for i in range(k):\n",
        "    print(f\"Processing fold #{i}\")\n",
        "    val_data = train_data[i * num_val_samples: (i + 1) * num_val_samples]\n",
        "    val_targets = train_targets[i * num_val_samples: (i + 1) * num_val_samples]\n",
        "    partial_train_data = np.concatenate(\n",
        "        [train_data[:i * num_val_samples],\n",
        "         train_data[(i + 1) * num_val_samples:]],\n",
        "        axis=0)\n",
        "    partial_train_targets = np.concatenate(\n",
        "        [train_targets[:i * num_val_samples],\n",
        "         train_targets[(i + 1) * num_val_samples:]],\n",
        "        axis=0)\n",
        "    model = build_model()\n",
        "    model.fit(partial_train_data, partial_train_targets,\n",
        "              epochs=num_epochs, batch_size=16, verbose=0)\n",
        "    val_mse, val_mae = model.evaluate(val_data, val_targets, verbose=0)\n",
        "    all_scores.append(val_mae)"
      ],
      "metadata": {
        "colab": {
          "base_uri": "https://localhost:8080/"
        },
        "id": "c3LeJB_c70t6",
        "outputId": "e6909ad9-4279-449c-8fd8-03b0029c505c"
      },
      "execution_count": 98,
      "outputs": [
        {
          "output_type": "stream",
          "name": "stdout",
          "text": [
            "Processing fold #0\n",
            "Processing fold #1\n",
            "Processing fold #2\n",
            "Processing fold #3\n"
          ]
        }
      ]
    },
    {
      "cell_type": "code",
      "source": [
        "all_scores"
      ],
      "metadata": {
        "colab": {
          "base_uri": "https://localhost:8080/"
        },
        "id": "vrkxAMfK7_lx",
        "outputId": "6e8c9d5f-a871-4cf9-fd8b-09c57c1ecabe"
      },
      "execution_count": 100,
      "outputs": [
        {
          "output_type": "execute_result",
          "data": {
            "text/plain": [
              "[2.055704355239868, 2.3975141048431396, 2.5567467212677, 2.364948034286499]"
            ]
          },
          "metadata": {},
          "execution_count": 100
        }
      ]
    },
    {
      "cell_type": "code",
      "source": [
        "np.mean(all_scores)"
      ],
      "metadata": {
        "colab": {
          "base_uri": "https://localhost:8080/"
        },
        "id": "lKu0KFLS8hEi",
        "outputId": "bae78804-255d-49a0-cf7e-1e5b00caa983"
      },
      "execution_count": 101,
      "outputs": [
        {
          "output_type": "execute_result",
          "data": {
            "text/plain": [
              "2.3437283039093018"
            ]
          },
          "metadata": {},
          "execution_count": 101
        }
      ]
    },
    {
      "cell_type": "markdown",
      "source": [
        "**Saving the validation logs at each fold**"
      ],
      "metadata": {
        "id": "hzb6jOqu9Bs5"
      }
    },
    {
      "cell_type": "code",
      "source": [
        "num_epochs = 500\n",
        "all_mae_histories = []\n",
        "for i in range(k):\n",
        "    print(f\"Processing fold #{i}\")\n",
        "    val_data = train_data[i * num_val_samples: (i + 1) * num_val_samples]\n",
        "    val_targets = train_targets[i * num_val_samples: (i + 1) * num_val_samples]\n",
        "    partial_train_data = np.concatenate(\n",
        "        [train_data[:i * num_val_samples],\n",
        "         train_data[(i + 1) * num_val_samples:]],\n",
        "        axis=0)\n",
        "    partial_train_targets = np.concatenate(\n",
        "        [train_targets[:i * num_val_samples],\n",
        "         train_targets[(i + 1) * num_val_samples:]],\n",
        "        axis=0)\n",
        "    model = build_model()\n",
        "    history = model.fit(partial_train_data, partial_train_targets,\n",
        "                        validation_data=(val_data, val_targets),\n",
        "                        epochs=num_epochs, batch_size=16, verbose=0)\n",
        "    mae_history = history.history[\"val_mae\"]\n",
        "    all_mae_histories.append(mae_history)"
      ],
      "metadata": {
        "colab": {
          "base_uri": "https://localhost:8080/"
        },
        "id": "MpHJ0A0h9St0",
        "outputId": "68adf347-ac8a-4791-e9ea-9dc62667b786"
      },
      "execution_count": 102,
      "outputs": [
        {
          "output_type": "stream",
          "name": "stdout",
          "text": [
            "Processing fold #0\n",
            "Processing fold #1\n",
            "Processing fold #2\n",
            "Processing fold #3\n"
          ]
        }
      ]
    },
    {
      "cell_type": "markdown",
      "source": [
        "**Building the history of successive mean K-fold validation scores**"
      ],
      "metadata": {
        "id": "Dl3sXW3o9UzB"
      }
    },
    {
      "cell_type": "code",
      "source": [
        "average_mae_history = [\n",
        "    np.mean([x[i] for x in all_mae_histories]) for i in range(num_epochs)]"
      ],
      "metadata": {
        "id": "l2czOA1M9oye"
      },
      "execution_count": 103,
      "outputs": []
    },
    {
      "cell_type": "markdown",
      "source": [
        "**Plotting validation scores**"
      ],
      "metadata": {
        "id": "ovfzaPaY90fi"
      }
    },
    {
      "cell_type": "code",
      "source": [
        "plt.plot(range(1, len(average_mae_history) + 1), average_mae_history)\n",
        "plt.xlabel(\"Epochs\")\n",
        "plt.ylabel(\"Validation MAE\")\n",
        "plt.show()"
      ],
      "metadata": {
        "colab": {
          "base_uri": "https://localhost:8080/",
          "height": 449
        },
        "id": "nce6Xiov99Ie",
        "outputId": "c6bc3b4c-f747-46e1-898e-97c31f4a158b"
      },
      "execution_count": 104,
      "outputs": [
        {
          "output_type": "display_data",
          "data": {
            "text/plain": [
              "<Figure size 640x480 with 1 Axes>"
            ],
            "image/png": "[encoded data removed]"
          },
          "metadata": {}
        }
      ]
    },
    {
      "cell_type": "markdown",
      "source": [
        "**Plotting validation scores, excluding the first 10 data points**"
      ],
      "metadata": {
        "id": "YBJ3Vkri9-TB"
      }
    },
    {
      "cell_type": "code",
      "source": [
        "truncated_mae_history = average_mae_history[10:]\n",
        "plt.plot(range(1, len(truncated_mae_history) + 1), truncated_mae_history)\n",
        "plt.xlabel(\"Epochs\")\n",
        "plt.ylabel(\"Validation MAE\")\n",
        "plt.show()"
      ],
      "metadata": {
        "colab": {
          "base_uri": "https://localhost:8080/",
          "height": 449
        },
        "id": "t0oqgy4P-NfS",
        "outputId": "ac0d4533-3c1f-49fd-c659-d12b02a14ca7"
      },
      "execution_count": 106,
      "outputs": [
        {
          "output_type": "display_data",
          "data": {
            "text/plain": [
              "<Figure size 640x480 with 1 Axes>"
            ],
            "image/png": "[encoded data removed]"
          },
          "metadata": {}
        }
      ]
    },
    {
      "cell_type": "markdown",
      "source": [
        "**Training the final model**"
      ],
      "metadata": {
        "id": "dFeyUzzq-Pa1"
      }
    },
    {
      "cell_type": "code",
      "source": [
        "model = build_model()\n",
        "model.fit(train_data, train_targets,\n",
        "          epochs=130, batch_size=16, verbose=0)\n",
        "test_mse_score, test_mae_score = model.evaluate(test_data, test_targets)"
      ],
      "metadata": {
        "colab": {
          "base_uri": "https://localhost:8080/"
        },
        "id": "5eT7Re96-wDS",
        "outputId": "dc8ebc56-4803-439b-bf75-9408e73a1c62"
      },
      "execution_count": 107,
      "outputs": [
        {
          "output_type": "stream",
          "name": "stdout",
          "text": [
            "4/4 [==============================] - 0s 3ms/step - loss: 15.4656 - mae: 2.7648\n"
          ]
        }
      ]
    },
    {
      "cell_type": "code",
      "source": [
        "test_mae_score"
      ],
      "metadata": {
        "colab": {
          "base_uri": "https://localhost:8080/"
        },
        "id": "yO0olT4M-6qX",
        "outputId": "cd77b33a-ec49-44ea-c1b4-9151b1a8f7fa"
      },
      "execution_count": 108,
      "outputs": [
        {
          "output_type": "execute_result",
          "data": {
            "text/plain": [
              "2.764758825302124"
            ]
          },
          "metadata": {},
          "execution_count": 108
        }
      ]
    },
    {
      "cell_type": "markdown",
      "source": [
        "### Generating predictions on new data"
      ],
      "metadata": {
        "id": "r3u4LrLk-63B"
      }
    },
    {
      "cell_type": "code",
      "source": [
        "predictions = model.predict(test_data)\n",
        "predictions[0]"
      ],
      "metadata": {
        "colab": {
          "base_uri": "https://localhost:8080/"
        },
        "id": "n0AkLkVs_KnR",
        "outputId": "88e72bdc-dec8-4902-c090-1c349141d572"
      },
      "execution_count": 109,
      "outputs": [
        {
          "output_type": "stream",
          "name": "stdout",
          "text": [
            "4/4 [==============================] - 0s 4ms/step\n"
          ]
        },
        {
          "output_type": "execute_result",
          "data": {
            "text/plain": [
              "array([7.3554378], dtype=float32)"
            ]
          },
          "metadata": {},
          "execution_count": 109
        }
      ]
    },
    {
      "cell_type": "markdown",
      "source": [
        "### Wrapping up"
      ],
      "metadata": {
        "id": "uvwQwK3T_L86"
      }
    },
    {
      "cell_type": "markdown",
      "source": [
        "Here’s what you should take away from this scalar regression example:\n",
        "* Regression is done using different loss functions than we used for classification.\n",
        "Mean squared error (MSE) is a loss function commonly used for regression.\n",
        "* Similarly, evaluation metrics to be used for regression differ from those used for\n",
        "classification; naturally, the concept of accuracy doesn’t apply for regression. A\n",
        "common regression metric is mean absolute error (MAE).\n",
        "* When features in the input data have values in different ranges, each feature\n",
        "should be scaled independently as a preprocessing step.\n",
        "* When there is little data available, using K-fold validation is a great way to reliably evaluate a model.\n",
        "* When little training data is available, it’s preferable to use a small model with few\n",
        "intermediate layers (typically only one or two), in order to avoid severe overfitting."
      ],
      "metadata": {
        "id": "mZxrmuyGAWQ5"
      }
    },
    {
      "cell_type": "markdown",
      "source": [
        "## Summary"
      ],
      "metadata": {
        "id": "AUAvGrLs_9Hh"
      }
    },
    {
      "cell_type": "markdown",
      "source": [
        "* The three most common kinds of machine learning tasks on vector data are\n",
        "binary classification, multiclass classification, and scalar regression.\n",
        "    * The “Wrapping up” sections earlier in the chapter summarize the important\n",
        "    points you’ve learned regarding each task.\n",
        "    * Regression uses different loss functions and different evaluation metrics\n",
        "    than classification.\n",
        "* You’ll usually need to preprocess raw data before feeding it into a neural network.\n",
        "* When your data has features with different ranges, scale each feature independently as part of preprocessing.\n",
        "* As training progresses, neural networks eventually begin to overfit and obtain\n",
        "worse results on never-before-seen data.\n",
        "* If you don’t have much training data, use a small model with only one or two\n",
        "intermediate layers, to avoid severe overfitting.\n",
        "* If your data is divided into many categories, you may cause information bottlenecks if you make the intermediate layers too small.\n",
        "* When you’re working with little data, K-fold validation can help reliably evaluate your model."
      ],
      "metadata": {
        "id": "woBL4DCG__wc"
      }
    },
    {
      "cell_type": "code",
      "source": [],
      "metadata": {
        "id": "Or62i8riAUFV"
      },
      "execution_count": null,
      "outputs": []
    }
  ]
}