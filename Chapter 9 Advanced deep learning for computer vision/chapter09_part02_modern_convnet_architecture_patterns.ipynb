{
  "nbformat": 4,
  "nbformat_minor": 0,
  "metadata": {
    "colab": {
      "provenance": [],
      "gpuType": "T4"
    },
    "kernelspec": {
      "name": "python3",
      "display_name": "Python 3"
    },
    "language_info": {
      "name": "python"
    },
    "accelerator": "GPU"
  },
  "cells": [
    {
      "cell_type": "markdown",
      "source": [
        "This is a companion notebook for the book [Deep Learning with Python, Second Edition](https://www.manning.com/books/deep-learning-with-python-second-edition?a_aid=keras&a_bid=76564dff). For readability, it only contains runnable code blocks and section titles, and omits everything else in the book: text paragraphs, figures, and pseudocode.\n",
        "\n",
        "**If you want to be able to follow what's going on, I recommend reading the notebook side by side with your copy of the book.**\n",
        "\n",
        "This notebook was generated for TensorFlow 2.6."
      ],
      "metadata": {
        "id": "q-P8J-uvFh_q"
      }
    },
    {
      "cell_type": "markdown",
      "source": [
        "## Modern convnet architecture patterns"
      ],
      "metadata": {
        "id": "IlMsnngfeyPu"
      }
    },
    {
      "cell_type": "markdown",
      "source": [
        "### Modularity, hierarchy, and reuse"
      ],
      "metadata": {
        "id": "-5hzAtEme0X1"
      }
    },
    {
      "cell_type": "markdown",
      "source": [
        "### Residual connections"
      ],
      "metadata": {
        "id": "Tr-QU3fce119"
      }
    },
    {
      "cell_type": "markdown",
      "source": [
        "**Residual block where the number of filters changes**"
      ],
      "metadata": {
        "id": "4wW8Srgie3KW"
      }
    },
    {
      "cell_type": "code",
      "source": [
        "from tensorflow import keras\n",
        "from tensorflow.keras import layers\n",
        "\n",
        "inputs = keras.Input(shape=(32, 32, 3))\n",
        "x = layers.Conv2D(32, 3, activation=\"relu\")(inputs)\n",
        "residual = x\n",
        "x = layers.Conv2D(64, 3, activation=\"relu\", padding=\"same\")(x)\n",
        "residual = layers.Conv2D(64, 1)(residual)\n",
        "x = layers.add([x, residual])"
      ],
      "metadata": {
        "id": "h1gb1dISe4eu"
      },
      "execution_count": 22,
      "outputs": []
    },
    {
      "cell_type": "markdown",
      "source": [
        "**Case where target block includes a max pooling layer**"
      ],
      "metadata": {
        "id": "zsldFBVWe5ZH"
      }
    },
    {
      "cell_type": "code",
      "source": [
        "inputs = keras.Input(shape=(32, 32, 3))\n",
        "x = layers.Conv2D(32, 3, activation=\"relu\")(inputs)\n",
        "residual = x\n",
        "x = layers.Conv2D(64, 3, activation=\"relu\", padding=\"same\")(x)\n",
        "x = layers.MaxPooling2D(2, padding=\"same\")(x)\n",
        "residual = layers.Conv2D(64, 1, strides=2)(residual)\n",
        "x = layers.add([x, residual])"
      ],
      "metadata": {
        "id": "OYmzoIUYgTgj"
      },
      "execution_count": null,
      "outputs": []
    },
    {
      "cell_type": "code",
      "source": [
        "inputs = keras.Input(shape=(32, 32, 3))\n",
        "x = layers.Rescaling(1./255)(inputs)\n",
        "\n",
        "def residual_block(x, filters, pooling=False):\n",
        "    residual = x\n",
        "    x = layers.Conv2D(filters, 3, activation=\"relu\", padding=\"same\")(x)\n",
        "    x = layers.Conv2D(filters, 3, activation=\"relu\", padding=\"same\")(x)\n",
        "    if pooling:\n",
        "        x = layers.MaxPooling2D(2, padding=\"same\")(x)\n",
        "        residual = layers.Conv2D(filters, 1, strides=2)(residual)\n",
        "    elif filters != residual.shape[-1]:\n",
        "        residual = layers.Conv2D(filters, 1)(residual)\n",
        "    x = layers.add([x, residual])\n",
        "    return x\n",
        "\n",
        "x = residual_block(x, filters=32, pooling=True)\n",
        "x = residual_block(x, filters=64, pooling=True)\n",
        "x = residual_block(x, filters=128, pooling=False)\n",
        "\n",
        "x = layers.GlobalAveragePooling2D()(x)\n",
        "outputs = layers.Dense(1, activation=\"sigmoid\")(x)\n",
        "model = keras.Model(inputs=inputs, outputs=outputs)\n",
        "model.summary()"
      ],
      "metadata": {
        "colab": {
          "base_uri": "https://localhost:8080/"
        },
        "id": "Ui7o5-RigVf1",
        "outputId": "b36ac1dc-5146-4e12-8be4-e09fa1cb15b0"
      },
      "execution_count": null,
      "outputs": [
        {
          "output_type": "stream",
          "name": "stdout",
          "text": [
            "Model: \"model\"\n",
            "__________________________________________________________________________________________________\n",
            " Layer (type)                   Output Shape         Param #     Connected to                     \n",
            "==================================================================================================\n",
            " input_3 (InputLayer)           [(None, 32, 32, 3)]  0           []                               \n",
            "                                                                                                  \n",
            " rescaling (Rescaling)          (None, 32, 32, 3)    0           ['input_3[0][0]']                \n",
            "                                                                                                  \n",
            " conv2d_6 (Conv2D)              (None, 32, 32, 32)   896         ['rescaling[0][0]']              \n",
            "                                                                                                  \n",
            " conv2d_7 (Conv2D)              (None, 32, 32, 32)   9248        ['conv2d_6[0][0]']               \n",
            "                                                                                                  \n",
            " max_pooling2d_1 (MaxPooling2D)  (None, 16, 16, 32)  0           ['conv2d_7[0][0]']               \n",
            "                                                                                                  \n",
            " conv2d_8 (Conv2D)              (None, 16, 16, 32)   128         ['rescaling[0][0]']              \n",
            "                                                                                                  \n",
            " add_2 (Add)                    (None, 16, 16, 32)   0           ['max_pooling2d_1[0][0]',        \n",
            "                                                                  'conv2d_8[0][0]']               \n",
            "                                                                                                  \n",
            " conv2d_9 (Conv2D)              (None, 16, 16, 64)   18496       ['add_2[0][0]']                  \n",
            "                                                                                                  \n",
            " conv2d_10 (Conv2D)             (None, 16, 16, 64)   36928       ['conv2d_9[0][0]']               \n",
            "                                                                                                  \n",
            " max_pooling2d_2 (MaxPooling2D)  (None, 8, 8, 64)    0           ['conv2d_10[0][0]']              \n",
            "                                                                                                  \n",
            " conv2d_11 (Conv2D)             (None, 8, 8, 64)     2112        ['add_2[0][0]']                  \n",
            "                                                                                                  \n",
            " add_3 (Add)                    (None, 8, 8, 64)     0           ['max_pooling2d_2[0][0]',        \n",
            "                                                                  'conv2d_11[0][0]']              \n",
            "                                                                                                  \n",
            " conv2d_12 (Conv2D)             (None, 8, 8, 128)    73856       ['add_3[0][0]']                  \n",
            "                                                                                                  \n",
            " conv2d_13 (Conv2D)             (None, 8, 8, 128)    147584      ['conv2d_12[0][0]']              \n",
            "                                                                                                  \n",
            " conv2d_14 (Conv2D)             (None, 8, 8, 128)    8320        ['add_3[0][0]']                  \n",
            "                                                                                                  \n",
            " add_4 (Add)                    (None, 8, 8, 128)    0           ['conv2d_13[0][0]',              \n",
            "                                                                  'conv2d_14[0][0]']              \n",
            "                                                                                                  \n",
            " global_average_pooling2d (Glob  (None, 128)         0           ['add_4[0][0]']                  \n",
            " alAveragePooling2D)                                                                              \n",
            "                                                                                                  \n",
            " dense (Dense)                  (None, 1)            129         ['global_average_pooling2d[0][0]'\n",
            "                                                                 ]                                \n",
            "                                                                                                  \n",
            "==================================================================================================\n",
            "Total params: 297,697\n",
            "Trainable params: 297,697\n",
            "Non-trainable params: 0\n",
            "__________________________________________________________________________________________________\n"
          ]
        }
      ]
    },
    {
      "cell_type": "markdown",
      "source": [
        "### Batch normalization"
      ],
      "metadata": {
        "id": "CuFkHbUChCfP"
      }
    },
    {
      "cell_type": "markdown",
      "source": [
        "### Depthwise separable convolutions"
      ],
      "metadata": {
        "id": "tXn7DC5VwvOV"
      }
    },
    {
      "cell_type": "markdown",
      "source": [
        "### Putting it together: A mini Xception-like model"
      ],
      "metadata": {
        "id": "z0K3MDPLww4F"
      }
    },
    {
      "cell_type": "code",
      "source": [
        "from google.colab import files\n",
        "files.upload()"
      ],
      "metadata": {
        "id": "6vmsIvvh2IX5",
        "colab": {
          "base_uri": "https://localhost:8080/",
          "height": 90
        },
        "outputId": "21436d76-70e0-4f39-e706-c945b23b43cb"
      },
      "execution_count": 2,
      "outputs": [
        {
          "output_type": "display_data",
          "data": {
            "text/plain": [
              "<IPython.core.display.HTML object>"
            ],
            "text/html": [
              "\n",
              "     <input type=\"file\" id=\"files-0482743a-93f3-4483-9309-a15fd885ac2a\" name=\"files[]\" multiple disabled\n",
              "        style=\"border:none\" />\n",
              "     <output id=\"result-0482743a-93f3-4483-9309-a15fd885ac2a\">\n",
              "      Upload widget is only available when the cell has been executed in the\n",
              "      current browser session. Please rerun this cell to enable.\n",
              "      </output>\n",
              "      <script>// Copyright 2017 Google LLC\n",
              "//\n",
              "// Licensed under the Apache License, Version 2.0 (the \"License\");\n",
              "// you may not use this file except in compliance with the License.\n",
              "// You may obtain a copy of the License at\n",
              "//\n",
              "//      http://www.apache.org/licenses/LICENSE-2.0\n",
              "//\n",
              "// Unless required by applicable law or agreed to in writing, software\n",
              "// distributed under the License is distributed on an \"AS IS\" BASIS,\n",
              "// WITHOUT WARRANTIES OR CONDITIONS OF ANY KIND, either express or implied.\n",
              "// See the License for the specific language governing permissions and\n",
              "// limitations under the License.\n",
              "\n",
              "/**\n",
              " * @fileoverview Helpers for google.colab Python module.\n",
              " */\n",
              "(function(scope) {\n",
              "function span(text, styleAttributes = {}) {\n",
              "  const element = document.createElement('span');\n",
              "  element.textContent = text;\n",
              "  for (const key of Object.keys(styleAttributes)) {\n",
              "    element.style[key] = styleAttributes[key];\n",
              "  }\n",
              "  return element;\n",
              "}\n",
              "\n",
              "// Max number of bytes which will be uploaded at a time.\n",
              "const MAX_PAYLOAD_SIZE = 100 * 1024;\n",
              "\n",
              "function _uploadFiles(inputId, outputId) {\n",
              "  const steps = uploadFilesStep(inputId, outputId);\n",
              "  const outputElement = document.getElementById(outputId);\n",
              "  // Cache steps on the outputElement to make it available for the next call\n",
              "  // to uploadFilesContinue from Python.\n",
              "  outputElement.steps = steps;\n",
              "\n",
              "  return _uploadFilesContinue(outputId);\n",
              "}\n",
              "\n",
              "// This is roughly an async generator (not supported in the browser yet),\n",
              "// where there are multiple asynchronous steps and the Python side is going\n",
              "// to poll for completion of each step.\n",
              "// This uses a Promise to block the python side on completion of each step,\n",
              "// then passes the result of the previous step as the input to the next step.\n",
              "function _uploadFilesContinue(outputId) {\n",
              "  const outputElement = document.getElementById(outputId);\n",
              "  const steps = outputElement.steps;\n",
              "\n",
              "  const next = steps.next(outputElement.lastPromiseValue);\n",
              "  return Promise.resolve(next.value.promise).then((value) => {\n",
              "    // Cache the last promise value to make it available to the next\n",
              "    // step of the generator.\n",
              "    outputElement.lastPromiseValue = value;\n",
              "    return next.value.response;\n",
              "  });\n",
              "}\n",
              "\n",
              "/**\n",
              " * Generator function which is called between each async step of the upload\n",
              " * process.\n",
              " * @param {string} inputId Element ID of the input file picker element.\n",
              " * @param {string} outputId Element ID of the output display.\n",
              " * @return {!Iterable<!Object>} Iterable of next steps.\n",
              " */\n",
              "function* uploadFilesStep(inputId, outputId) {\n",
              "  const inputElement = document.getElementById(inputId);\n",
              "  inputElement.disabled = false;\n",
              "\n",
              "  const outputElement = document.getElementById(outputId);\n",
              "  outputElement.innerHTML = '';\n",
              "\n",
              "  const pickedPromise = new Promise((resolve) => {\n",
              "    inputElement.addEventListener('change', (e) => {\n",
              "      resolve(e.target.files);\n",
              "    });\n",
              "  });\n",
              "\n",
              "  const cancel = document.createElement('button');\n",
              "  inputElement.parentElement.appendChild(cancel);\n",
              "  cancel.textContent = 'Cancel upload';\n",
              "  const cancelPromise = new Promise((resolve) => {\n",
              "    cancel.onclick = () => {\n",
              "      resolve(null);\n",
              "    };\n",
              "  });\n",
              "\n",
              "  // Wait for the user to pick the files.\n",
              "  const files = yield {\n",
              "    promise: Promise.race([pickedPromise, cancelPromise]),\n",
              "    response: {\n",
              "      action: 'starting',\n",
              "    }\n",
              "  };\n",
              "\n",
              "  cancel.remove();\n",
              "\n",
              "  // Disable the input element since further picks are not allowed.\n",
              "  inputElement.disabled = true;\n",
              "\n",
              "  if (!files) {\n",
              "    return {\n",
              "      response: {\n",
              "        action: 'complete',\n",
              "      }\n",
              "    };\n",
              "  }\n",
              "\n",
              "  for (const file of files) {\n",
              "    const li = document.createElement('li');\n",
              "    li.append(span(file.name, {fontWeight: 'bold'}));\n",
              "    li.append(span(\n",
              "        `(${file.type || 'n/a'}) - ${file.size} bytes, ` +\n",
              "        `last modified: ${\n",
              "            file.lastModifiedDate ? file.lastModifiedDate.toLocaleDateString() :\n",
              "                                    'n/a'} - `));\n",
              "    const percent = span('0% done');\n",
              "    li.appendChild(percent);\n",
              "\n",
              "    outputElement.appendChild(li);\n",
              "\n",
              "    const fileDataPromise = new Promise((resolve) => {\n",
              "      const reader = new FileReader();\n",
              "      reader.onload = (e) => {\n",
              "        resolve(e.target.result);\n",
              "      };\n",
              "      reader.readAsArrayBuffer(file);\n",
              "    });\n",
              "    // Wait for the data to be ready.\n",
              "    let fileData = yield {\n",
              "      promise: fileDataPromise,\n",
              "      response: {\n",
              "        action: 'continue',\n",
              "      }\n",
              "    };\n",
              "\n",
              "    // Use a chunked sending to avoid message size limits. See b/62115660.\n",
              "    let position = 0;\n",
              "    do {\n",
              "      const length = Math.min(fileData.byteLength - position, MAX_PAYLOAD_SIZE);\n",
              "      const chunk = new Uint8Array(fileData, position, length);\n",
              "      position += length;\n",
              "\n",
              "      const base64 = btoa(String.fromCharCode.apply(null, chunk));\n",
              "      yield {\n",
              "        response: {\n",
              "          action: 'append',\n",
              "          file: file.name,\n",
              "          data: base64,\n",
              "        },\n",
              "      };\n",
              "\n",
              "      let percentDone = fileData.byteLength === 0 ?\n",
              "          100 :\n",
              "          Math.round((position / fileData.byteLength) * 100);\n",
              "      percent.textContent = `${percentDone}% done`;\n",
              "\n",
              "    } while (position < fileData.byteLength);\n",
              "  }\n",
              "\n",
              "  // All done.\n",
              "  yield {\n",
              "    response: {\n",
              "      action: 'complete',\n",
              "    }\n",
              "  };\n",
              "}\n",
              "\n",
              "scope.google = scope.google || {};\n",
              "scope.google.colab = scope.google.colab || {};\n",
              "scope.google.colab._files = {\n",
              "  _uploadFiles,\n",
              "  _uploadFilesContinue,\n",
              "};\n",
              "})(self);\n",
              "</script> "
            ]
          },
          "metadata": {}
        },
        {
          "output_type": "stream",
          "name": "stdout",
          "text": [
            "Saving kaggle.json to kaggle.json\n"
          ]
        },
        {
          "output_type": "execute_result",
          "data": {
            "text/plain": [
              "{'kaggle.json': b'{\"username\":\"edmonsahakyan\",\"key\":\"3bb9ab4df24490f8509a77af0944671e\"}'}"
            ]
          },
          "metadata": {},
          "execution_count": 2
        }
      ]
    },
    {
      "cell_type": "code",
      "source": [
        "!mkdir ~/.kaggle\n",
        "!cp kaggle.json ~/.kaggle/\n",
        "!chmod 600 ~/.kaggle/kaggle.json\n",
        "!kaggle competitions download -c dogs-vs-cats\n",
        "!unzip -qq dogs-vs-cats.zip\n",
        "!unzip -qq train.zip"
      ],
      "metadata": {
        "id": "xEYD_c3E2crV",
        "colab": {
          "base_uri": "https://localhost:8080/"
        },
        "outputId": "255f55fd-a901-42fc-f6bf-f3f107c6170b"
      },
      "execution_count": 9,
      "outputs": [
        {
          "output_type": "stream",
          "name": "stdout",
          "text": [
            "mkdir: cannot create directory ‘/root/.kaggle’: File exists\n",
            "dogs-vs-cats.zip: Skipping, found more recently modified local copy (use --force to force download)\n"
          ]
        }
      ]
    },
    {
      "cell_type": "code",
      "source": [
        "import os, shutil, pathlib\n",
        "from tensorflow.keras.utils import image_dataset_from_directory\n",
        "\n",
        "original_dir = pathlib.Path(\"train\")\n",
        "new_base_dir = pathlib.Path(\"cats_vs_dogs_small\")\n",
        "\n",
        "def make_subset(subset_name, start_index, end_index):\n",
        "    for category in (\"cat\", \"dog\"):\n",
        "        dir = new_base_dir / subset_name / category\n",
        "        os.makedirs(dir)\n",
        "        fnames = [f\"{category}.{i}.jpg\" for i in range(start_index, end_index)]\n",
        "        for fname in fnames:\n",
        "            shutil.copyfile(src=original_dir / fname,\n",
        "                            dst=dir / fname)\n",
        "\n",
        "make_subset(\"train\", start_index=0, end_index=1000)\n",
        "make_subset(\"validation\", start_index=1000, end_index=1500)\n",
        "make_subset(\"test\", start_index=1500, end_index=2500)\n",
        "\n",
        "train_dataset = image_dataset_from_directory(\n",
        "    new_base_dir / \"train\",\n",
        "    image_size=(180, 180),\n",
        "    batch_size=32)\n",
        "validation_dataset = image_dataset_from_directory(\n",
        "    new_base_dir / \"validation\",\n",
        "    image_size=(180, 180),\n",
        "    batch_size=32)\n",
        "test_dataset = image_dataset_from_directory(\n",
        "    new_base_dir / \"test\",\n",
        "    image_size=(180, 180),\n",
        "    batch_size=32)"
      ],
      "metadata": {
        "id": "WJym6x0x2erO",
        "colab": {
          "base_uri": "https://localhost:8080/"
        },
        "outputId": "b2b66ee7-9f5f-4767-a17f-401aff88e2f4"
      },
      "execution_count": 20,
      "outputs": [
        {
          "output_type": "stream",
          "name": "stdout",
          "text": [
            "Found 2000 files belonging to 2 classes.\n",
            "Found 1000 files belonging to 2 classes.\n",
            "Found 2000 files belonging to 2 classes.\n"
          ]
        }
      ]
    },
    {
      "cell_type": "code",
      "source": [
        "data_augmentation = keras.Sequential(\n",
        "    [\n",
        "        layers.RandomFlip(\"horizontal\"),\n",
        "        layers.RandomRotation(0.1),\n",
        "        layers.RandomZoom(0.2),\n",
        "    ]\n",
        ")"
      ],
      "metadata": {
        "id": "BxHByisK2h-H"
      },
      "execution_count": 23,
      "outputs": []
    },
    {
      "cell_type": "code",
      "source": [
        "inputs = keras.Input(shape=(180, 180, 3))\n",
        "x = data_augmentation(inputs)\n",
        "\n",
        "x = layers.Rescaling(1./255)(x)\n",
        "x = layers.Conv2D(filters=32, kernel_size=5, use_bias=False)(x)\n",
        "\n",
        "for size in [32, 64, 128, 256, 512]:\n",
        "    residual = x\n",
        "\n",
        "    x = layers.BatchNormalization()(x)\n",
        "    x = layers.Activation(\"relu\")(x)\n",
        "    x = layers.SeparableConv2D(size, 3, padding=\"same\", use_bias=False)(x)\n",
        "\n",
        "    x = layers.BatchNormalization()(x)\n",
        "    x = layers.Activation(\"relu\")(x)\n",
        "    x = layers.SeparableConv2D(size, 3, padding=\"same\", use_bias=False)(x)\n",
        "\n",
        "    x = layers.MaxPooling2D(3, strides=2, padding=\"same\")(x)\n",
        "\n",
        "    residual = layers.Conv2D(\n",
        "        size, 1, strides=2, padding=\"same\", use_bias=False)(residual)\n",
        "    x = layers.add([x, residual])\n",
        "\n",
        "x = layers.GlobalAveragePooling2D()(x)\n",
        "x = layers.Dropout(0.5)(x)\n",
        "outputs = layers.Dense(1, activation=\"sigmoid\")(x)\n",
        "model = keras.Model(inputs=inputs, outputs=outputs)"
      ],
      "metadata": {
        "id": "Abs1hrLF2iby"
      },
      "execution_count": 24,
      "outputs": []
    },
    {
      "cell_type": "code",
      "source": [
        "model.compile(loss=\"binary_crossentropy\",\n",
        "              optimizer=\"rmsprop\",\n",
        "              metrics=[\"accuracy\"])\n",
        "history = model.fit(\n",
        "    train_dataset,\n",
        "    epochs=100,\n",
        "    validation_data=validation_dataset)"
      ],
      "metadata": {
        "id": "CVv6mvh62jHP",
        "colab": {
          "base_uri": "https://localhost:8080/"
        },
        "outputId": "2b1ab37b-09e1-4331-ce86-9faa75f53850"
      },
      "execution_count": 25,
      "outputs": [
        {
          "output_type": "stream",
          "name": "stdout",
          "text": [
            "Epoch 1/100\n",
            "63/63 [==============================] - 31s 188ms/step - loss: 0.7008 - accuracy: 0.5600 - val_loss: 0.6938 - val_accuracy: 0.5000\n",
            "Epoch 2/100\n",
            "63/63 [==============================] - 10s 160ms/step - loss: 0.6543 - accuracy: 0.6125 - val_loss: 0.6974 - val_accuracy: 0.5000\n",
            "Epoch 3/100\n",
            "63/63 [==============================] - 9s 142ms/step - loss: 0.6585 - accuracy: 0.6075 - val_loss: 0.6950 - val_accuracy: 0.5020\n",
            "Epoch 4/100\n",
            "63/63 [==============================] - 9s 144ms/step - loss: 0.6354 - accuracy: 0.6445 - val_loss: 0.7404 - val_accuracy: 0.5000\n",
            "Epoch 5/100\n",
            "63/63 [==============================] - 9s 143ms/step - loss: 0.6182 - accuracy: 0.6680 - val_loss: 0.7462 - val_accuracy: 0.5000\n",
            "Epoch 6/100\n",
            "63/63 [==============================] - 10s 154ms/step - loss: 0.5993 - accuracy: 0.6740 - val_loss: 0.7720 - val_accuracy: 0.5000\n",
            "Epoch 7/100\n",
            "63/63 [==============================] - 9s 140ms/step - loss: 0.5931 - accuracy: 0.6790 - val_loss: 0.7694 - val_accuracy: 0.5360\n",
            "Epoch 8/100\n",
            "63/63 [==============================] - 9s 142ms/step - loss: 0.5884 - accuracy: 0.6940 - val_loss: 1.0004 - val_accuracy: 0.5080\n",
            "Epoch 9/100\n",
            "63/63 [==============================] - 9s 142ms/step - loss: 0.5582 - accuracy: 0.7155 - val_loss: 0.7398 - val_accuracy: 0.5590\n",
            "Epoch 10/100\n",
            "63/63 [==============================] - 10s 155ms/step - loss: 0.5570 - accuracy: 0.7305 - val_loss: 0.7049 - val_accuracy: 0.6760\n",
            "Epoch 11/100\n",
            "63/63 [==============================] - 9s 139ms/step - loss: 0.5337 - accuracy: 0.7370 - val_loss: 0.8789 - val_accuracy: 0.5860\n",
            "Epoch 12/100\n",
            "63/63 [==============================] - 9s 144ms/step - loss: 0.5137 - accuracy: 0.7585 - val_loss: 1.1478 - val_accuracy: 0.5790\n",
            "Epoch 13/100\n",
            "63/63 [==============================] - 9s 141ms/step - loss: 0.5003 - accuracy: 0.7590 - val_loss: 0.5786 - val_accuracy: 0.6920\n",
            "Epoch 14/100\n",
            "63/63 [==============================] - 10s 154ms/step - loss: 0.4809 - accuracy: 0.7765 - val_loss: 0.7125 - val_accuracy: 0.6160\n",
            "Epoch 15/100\n",
            "63/63 [==============================] - 10s 161ms/step - loss: 0.4580 - accuracy: 0.7920 - val_loss: 0.5756 - val_accuracy: 0.6900\n",
            "Epoch 16/100\n",
            "63/63 [==============================] - 11s 160ms/step - loss: 0.4718 - accuracy: 0.7850 - val_loss: 0.6894 - val_accuracy: 0.6440\n",
            "Epoch 17/100\n",
            "63/63 [==============================] - 9s 143ms/step - loss: 0.4418 - accuracy: 0.8000 - val_loss: 0.8462 - val_accuracy: 0.6680\n",
            "Epoch 18/100\n",
            "63/63 [==============================] - 10s 152ms/step - loss: 0.4387 - accuracy: 0.7990 - val_loss: 1.2366 - val_accuracy: 0.5470\n",
            "Epoch 19/100\n",
            "63/63 [==============================] - 9s 142ms/step - loss: 0.4322 - accuracy: 0.8105 - val_loss: 1.8486 - val_accuracy: 0.5250\n",
            "Epoch 20/100\n",
            "63/63 [==============================] - 9s 145ms/step - loss: 0.4025 - accuracy: 0.8180 - val_loss: 0.4540 - val_accuracy: 0.7950\n",
            "Epoch 21/100\n",
            "63/63 [==============================] - 9s 143ms/step - loss: 0.3927 - accuracy: 0.8210 - val_loss: 0.5622 - val_accuracy: 0.7350\n",
            "Epoch 22/100\n",
            "63/63 [==============================] - 9s 141ms/step - loss: 0.3991 - accuracy: 0.8155 - val_loss: 1.0736 - val_accuracy: 0.6030\n",
            "Epoch 23/100\n",
            "63/63 [==============================] - 9s 145ms/step - loss: 0.3762 - accuracy: 0.8325 - val_loss: 0.9110 - val_accuracy: 0.6340\n",
            "Epoch 24/100\n",
            "63/63 [==============================] - 9s 139ms/step - loss: 0.3924 - accuracy: 0.8255 - val_loss: 0.4510 - val_accuracy: 0.7850\n",
            "Epoch 25/100\n",
            "63/63 [==============================] - 9s 142ms/step - loss: 0.3722 - accuracy: 0.8280 - val_loss: 0.6474 - val_accuracy: 0.7030\n",
            "Epoch 26/100\n",
            "63/63 [==============================] - 9s 147ms/step - loss: 0.3634 - accuracy: 0.8405 - val_loss: 0.6016 - val_accuracy: 0.7670\n",
            "Epoch 27/100\n",
            "63/63 [==============================] - 10s 149ms/step - loss: 0.3482 - accuracy: 0.8475 - val_loss: 0.5586 - val_accuracy: 0.7140\n",
            "Epoch 28/100\n",
            "63/63 [==============================] - 9s 139ms/step - loss: 0.3352 - accuracy: 0.8530 - val_loss: 0.4274 - val_accuracy: 0.8180\n",
            "Epoch 29/100\n",
            "63/63 [==============================] - 9s 140ms/step - loss: 0.3500 - accuracy: 0.8430 - val_loss: 0.3963 - val_accuracy: 0.8230\n",
            "Epoch 30/100\n",
            "63/63 [==============================] - 9s 143ms/step - loss: 0.3261 - accuracy: 0.8605 - val_loss: 0.6111 - val_accuracy: 0.7640\n",
            "Epoch 31/100\n",
            "63/63 [==============================] - 9s 141ms/step - loss: 0.3270 - accuracy: 0.8635 - val_loss: 0.3916 - val_accuracy: 0.8370\n",
            "Epoch 32/100\n",
            "63/63 [==============================] - 10s 159ms/step - loss: 0.3009 - accuracy: 0.8725 - val_loss: 0.5866 - val_accuracy: 0.7530\n",
            "Epoch 33/100\n",
            "63/63 [==============================] - 9s 140ms/step - loss: 0.3003 - accuracy: 0.8750 - val_loss: 0.6920 - val_accuracy: 0.7110\n",
            "Epoch 34/100\n",
            "63/63 [==============================] - 9s 142ms/step - loss: 0.3094 - accuracy: 0.8605 - val_loss: 0.4358 - val_accuracy: 0.8470\n",
            "Epoch 35/100\n",
            "63/63 [==============================] - 9s 144ms/step - loss: 0.2760 - accuracy: 0.8785 - val_loss: 0.4155 - val_accuracy: 0.8380\n",
            "Epoch 36/100\n",
            "63/63 [==============================] - 10s 160ms/step - loss: 0.2900 - accuracy: 0.8775 - val_loss: 0.5676 - val_accuracy: 0.7630\n",
            "Epoch 37/100\n",
            "63/63 [==============================] - 9s 138ms/step - loss: 0.2823 - accuracy: 0.8800 - val_loss: 1.3543 - val_accuracy: 0.6050\n",
            "Epoch 38/100\n",
            "63/63 [==============================] - 9s 141ms/step - loss: 0.2815 - accuracy: 0.8780 - val_loss: 1.2459 - val_accuracy: 0.6320\n",
            "Epoch 39/100\n",
            "63/63 [==============================] - 9s 142ms/step - loss: 0.2656 - accuracy: 0.8935 - val_loss: 0.3682 - val_accuracy: 0.8300\n",
            "Epoch 40/100\n",
            "63/63 [==============================] - 10s 158ms/step - loss: 0.2612 - accuracy: 0.9030 - val_loss: 0.5085 - val_accuracy: 0.7890\n",
            "Epoch 41/100\n",
            "63/63 [==============================] - 9s 139ms/step - loss: 0.2437 - accuracy: 0.8925 - val_loss: 0.3878 - val_accuracy: 0.8420\n",
            "Epoch 42/100\n",
            "63/63 [==============================] - 9s 140ms/step - loss: 0.2471 - accuracy: 0.8950 - val_loss: 0.4518 - val_accuracy: 0.8490\n",
            "Epoch 43/100\n",
            "63/63 [==============================] - 9s 143ms/step - loss: 0.2505 - accuracy: 0.8980 - val_loss: 0.4999 - val_accuracy: 0.7950\n",
            "Epoch 44/100\n",
            "63/63 [==============================] - 9s 142ms/step - loss: 0.2520 - accuracy: 0.8980 - val_loss: 0.6217 - val_accuracy: 0.7960\n",
            "Epoch 45/100\n",
            "63/63 [==============================] - 10s 155ms/step - loss: 0.2449 - accuracy: 0.9000 - val_loss: 0.4931 - val_accuracy: 0.8090\n",
            "Epoch 46/100\n",
            "63/63 [==============================] - 9s 139ms/step - loss: 0.2403 - accuracy: 0.9040 - val_loss: 0.8957 - val_accuracy: 0.7340\n",
            "Epoch 47/100\n",
            "63/63 [==============================] - 9s 142ms/step - loss: 0.2295 - accuracy: 0.9025 - val_loss: 0.3598 - val_accuracy: 0.8560\n",
            "Epoch 48/100\n",
            "63/63 [==============================] - 9s 142ms/step - loss: 0.2333 - accuracy: 0.9025 - val_loss: 0.6950 - val_accuracy: 0.7890\n",
            "Epoch 49/100\n",
            "63/63 [==============================] - 10s 152ms/step - loss: 0.2232 - accuracy: 0.9100 - val_loss: 0.6394 - val_accuracy: 0.7620\n",
            "Epoch 50/100\n",
            "63/63 [==============================] - 9s 139ms/step - loss: 0.2259 - accuracy: 0.9070 - val_loss: 0.4788 - val_accuracy: 0.8060\n",
            "Epoch 51/100\n",
            "63/63 [==============================] - 9s 143ms/step - loss: 0.2091 - accuracy: 0.9095 - val_loss: 0.4010 - val_accuracy: 0.8610\n",
            "Epoch 52/100\n",
            "63/63 [==============================] - 9s 143ms/step - loss: 0.2239 - accuracy: 0.9035 - val_loss: 0.6377 - val_accuracy: 0.7620\n",
            "Epoch 53/100\n",
            "63/63 [==============================] - 9s 146ms/step - loss: 0.1984 - accuracy: 0.9230 - val_loss: 0.3626 - val_accuracy: 0.8710\n",
            "Epoch 54/100\n",
            "63/63 [==============================] - 9s 139ms/step - loss: 0.1999 - accuracy: 0.9145 - val_loss: 0.3346 - val_accuracy: 0.8480\n",
            "Epoch 55/100\n",
            "63/63 [==============================] - 9s 142ms/step - loss: 0.1832 - accuracy: 0.9220 - val_loss: 0.6062 - val_accuracy: 0.7860\n",
            "Epoch 56/100\n",
            "63/63 [==============================] - 10s 162ms/step - loss: 0.1789 - accuracy: 0.9295 - val_loss: 0.3740 - val_accuracy: 0.8630\n",
            "Epoch 57/100\n",
            "63/63 [==============================] - 9s 142ms/step - loss: 0.1719 - accuracy: 0.9290 - val_loss: 0.9449 - val_accuracy: 0.7840\n",
            "Epoch 58/100\n",
            "63/63 [==============================] - 9s 140ms/step - loss: 0.1996 - accuracy: 0.9135 - val_loss: 0.4919 - val_accuracy: 0.8390\n",
            "Epoch 59/100\n",
            "63/63 [==============================] - 9s 142ms/step - loss: 0.2070 - accuracy: 0.9140 - val_loss: 0.4576 - val_accuracy: 0.8280\n",
            "Epoch 60/100\n",
            "63/63 [==============================] - 9s 144ms/step - loss: 0.1845 - accuracy: 0.9315 - val_loss: 0.6192 - val_accuracy: 0.8140\n",
            "Epoch 61/100\n",
            "63/63 [==============================] - 9s 143ms/step - loss: 0.1724 - accuracy: 0.9320 - val_loss: 0.7849 - val_accuracy: 0.7560\n",
            "Epoch 62/100\n",
            "63/63 [==============================] - 9s 145ms/step - loss: 0.1812 - accuracy: 0.9245 - val_loss: 1.1601 - val_accuracy: 0.7170\n",
            "Epoch 63/100\n",
            "63/63 [==============================] - 9s 138ms/step - loss: 0.1855 - accuracy: 0.9285 - val_loss: 0.3243 - val_accuracy: 0.8820\n",
            "Epoch 64/100\n",
            "63/63 [==============================] - 9s 142ms/step - loss: 0.1692 - accuracy: 0.9325 - val_loss: 0.4116 - val_accuracy: 0.8380\n",
            "Epoch 65/100\n",
            "63/63 [==============================] - 9s 142ms/step - loss: 0.1430 - accuracy: 0.9450 - val_loss: 0.4250 - val_accuracy: 0.8610\n",
            "Epoch 66/100\n",
            "63/63 [==============================] - 10s 148ms/step - loss: 0.1688 - accuracy: 0.9295 - val_loss: 0.6011 - val_accuracy: 0.8450\n",
            "Epoch 67/100\n",
            "63/63 [==============================] - 9s 140ms/step - loss: 0.1726 - accuracy: 0.9350 - val_loss: 0.2615 - val_accuracy: 0.8980\n",
            "Epoch 68/100\n",
            "63/63 [==============================] - 9s 143ms/step - loss: 0.1533 - accuracy: 0.9445 - val_loss: 0.4788 - val_accuracy: 0.8610\n",
            "Epoch 69/100\n",
            "63/63 [==============================] - 9s 144ms/step - loss: 0.1580 - accuracy: 0.9380 - val_loss: 0.3008 - val_accuracy: 0.8900\n",
            "Epoch 70/100\n",
            "63/63 [==============================] - 10s 147ms/step - loss: 0.1649 - accuracy: 0.9390 - val_loss: 0.5378 - val_accuracy: 0.8350\n",
            "Epoch 71/100\n",
            "63/63 [==============================] - 9s 138ms/step - loss: 0.1454 - accuracy: 0.9455 - val_loss: 0.3716 - val_accuracy: 0.8580\n",
            "Epoch 72/100\n",
            "63/63 [==============================] - 9s 142ms/step - loss: 0.1505 - accuracy: 0.9395 - val_loss: 0.4780 - val_accuracy: 0.8530\n",
            "Epoch 73/100\n",
            "63/63 [==============================] - 9s 142ms/step - loss: 0.1402 - accuracy: 0.9460 - val_loss: 0.3927 - val_accuracy: 0.8570\n",
            "Epoch 74/100\n",
            "63/63 [==============================] - 10s 160ms/step - loss: 0.1560 - accuracy: 0.9405 - val_loss: 0.3240 - val_accuracy: 0.8770\n",
            "Epoch 75/100\n",
            "63/63 [==============================] - 10s 159ms/step - loss: 0.1357 - accuracy: 0.9465 - val_loss: 0.6956 - val_accuracy: 0.7810\n",
            "Epoch 76/100\n",
            "63/63 [==============================] - 9s 140ms/step - loss: 0.1423 - accuracy: 0.9430 - val_loss: 0.3635 - val_accuracy: 0.8630\n",
            "Epoch 77/100\n",
            "63/63 [==============================] - 9s 144ms/step - loss: 0.1529 - accuracy: 0.9400 - val_loss: 0.4244 - val_accuracy: 0.8580\n",
            "Epoch 78/100\n",
            "63/63 [==============================] - 9s 142ms/step - loss: 0.1576 - accuracy: 0.9310 - val_loss: 0.3816 - val_accuracy: 0.8440\n",
            "Epoch 79/100\n",
            "63/63 [==============================] - 10s 148ms/step - loss: 0.1322 - accuracy: 0.9485 - val_loss: 0.3730 - val_accuracy: 0.8740\n",
            "Epoch 80/100\n",
            "63/63 [==============================] - 9s 140ms/step - loss: 0.1414 - accuracy: 0.9400 - val_loss: 0.5097 - val_accuracy: 0.8220\n",
            "Epoch 81/100\n",
            "63/63 [==============================] - 9s 142ms/step - loss: 0.1335 - accuracy: 0.9485 - val_loss: 0.3846 - val_accuracy: 0.8830\n",
            "Epoch 82/100\n",
            "63/63 [==============================] - 9s 143ms/step - loss: 0.1238 - accuracy: 0.9520 - val_loss: 0.4666 - val_accuracy: 0.8630\n",
            "Epoch 83/100\n",
            "63/63 [==============================] - 10s 149ms/step - loss: 0.1285 - accuracy: 0.9450 - val_loss: 0.5013 - val_accuracy: 0.8220\n",
            "Epoch 84/100\n",
            "63/63 [==============================] - 9s 139ms/step - loss: 0.1299 - accuracy: 0.9505 - val_loss: 0.3624 - val_accuracy: 0.8660\n",
            "Epoch 85/100\n",
            "63/63 [==============================] - 9s 142ms/step - loss: 0.1401 - accuracy: 0.9460 - val_loss: 0.2852 - val_accuracy: 0.8910\n",
            "Epoch 86/100\n",
            "63/63 [==============================] - 9s 143ms/step - loss: 0.1172 - accuracy: 0.9540 - val_loss: 0.7688 - val_accuracy: 0.7810\n",
            "Epoch 87/100\n",
            "63/63 [==============================] - 10s 149ms/step - loss: 0.1357 - accuracy: 0.9510 - val_loss: 0.6981 - val_accuracy: 0.8460\n",
            "Epoch 88/100\n",
            "63/63 [==============================] - 10s 159ms/step - loss: 0.1225 - accuracy: 0.9555 - val_loss: 0.4381 - val_accuracy: 0.8450\n",
            "Epoch 89/100\n",
            "63/63 [==============================] - 9s 141ms/step - loss: 0.1282 - accuracy: 0.9475 - val_loss: 0.4852 - val_accuracy: 0.8190\n",
            "Epoch 90/100\n",
            "63/63 [==============================] - 9s 143ms/step - loss: 0.1251 - accuracy: 0.9515 - val_loss: 0.4344 - val_accuracy: 0.8610\n",
            "Epoch 91/100\n",
            "63/63 [==============================] - 10s 163ms/step - loss: 0.1101 - accuracy: 0.9565 - val_loss: 0.4510 - val_accuracy: 0.8820\n",
            "Epoch 92/100\n",
            "63/63 [==============================] - 10s 152ms/step - loss: 0.1162 - accuracy: 0.9545 - val_loss: 0.3179 - val_accuracy: 0.8850\n",
            "Epoch 93/100\n",
            "63/63 [==============================] - 9s 139ms/step - loss: 0.1124 - accuracy: 0.9545 - val_loss: 2.6726 - val_accuracy: 0.6420\n",
            "Epoch 94/100\n",
            "63/63 [==============================] - 9s 142ms/step - loss: 0.1200 - accuracy: 0.9545 - val_loss: 0.9469 - val_accuracy: 0.8020\n",
            "Epoch 95/100\n",
            "63/63 [==============================] - 9s 142ms/step - loss: 0.1299 - accuracy: 0.9425 - val_loss: 0.4120 - val_accuracy: 0.8510\n",
            "Epoch 96/100\n",
            "63/63 [==============================] - 10s 150ms/step - loss: 0.1082 - accuracy: 0.9570 - val_loss: 0.3912 - val_accuracy: 0.8620\n",
            "Epoch 97/100\n",
            "63/63 [==============================] - 9s 139ms/step - loss: 0.1242 - accuracy: 0.9470 - val_loss: 0.4015 - val_accuracy: 0.8520\n",
            "Epoch 98/100\n",
            "63/63 [==============================] - 9s 142ms/step - loss: 0.1159 - accuracy: 0.9575 - val_loss: 0.3300 - val_accuracy: 0.8810\n",
            "Epoch 99/100\n",
            "63/63 [==============================] - 9s 144ms/step - loss: 0.1058 - accuracy: 0.9550 - val_loss: 0.3712 - val_accuracy: 0.8750\n",
            "Epoch 100/100\n",
            "63/63 [==============================] - 10s 153ms/step - loss: 0.1193 - accuracy: 0.9615 - val_loss: 0.2894 - val_accuracy: 0.8950\n"
          ]
        }
      ]
    },
    {
      "cell_type": "code",
      "source": [
        "import matplotlib.pyplot as plt\n",
        "accuracy = history.history[\"accuracy\"]\n",
        "val_accuracy = history.history[\"val_accuracy\"]\n",
        "loss = history.history[\"loss\"]\n",
        "val_loss = history.history[\"val_loss\"]\n",
        "epochs = range(1, len(accuracy) + 1)\n",
        "plt.plot(epochs, accuracy, \"bo\", label=\"Training accuracy\")\n",
        "plt.plot(epochs, val_accuracy, \"b\", label=\"Validation accuracy\")\n",
        "plt.title(\"Training and validation accuracy\")\n",
        "plt.legend()\n",
        "plt.figure()\n",
        "plt.plot(epochs, loss, \"bo\", label=\"Training loss\")\n",
        "plt.plot(epochs, val_loss, \"b\", label=\"Validation loss\")\n",
        "plt.title(\"Training and validation loss\")\n",
        "plt.legend()\n",
        "plt.show()"
      ],
      "metadata": {
        "colab": {
          "base_uri": "https://localhost:8080/",
          "height": 887
        },
        "id": "bpaP5x637nWX",
        "outputId": "5c08b084-47f2-4b0c-a1a6-7b71d4bfb94e"
      },
      "execution_count": 26,
      "outputs": [
        {
          "output_type": "display_data",
          "data": {
            "text/plain": [
              "<Figure size 640x480 with 1 Axes>"
            ],
            "image/png": "[encoded data removed]"
          },
          "metadata": {}
        },
        {
          "output_type": "display_data",
          "data": {
            "text/plain": [
              "<Figure size 640x480 with 1 Axes>"
            ],
            "image/png": "[encoded data removed]"
          },
          "metadata": {}
        }
      ]
    },
    {
      "cell_type": "code",
      "source": [
        "model = keras.models.load_model(\"convnet_from_scratch_with_augmentation.keras\")\n",
        "test_loss, test_acc = model.evaluate(test_dataset)\n",
        "print(f\"Test accuracy: {test_acc:.3f}\")"
      ],
      "metadata": {
        "colab": {
          "base_uri": "https://localhost:8080/"
        },
        "id": "jshh4H_g8Uw4",
        "outputId": "2eb024e9-31bb-4a10-8fea-553e96aec79c"
      },
      "execution_count": 27,
      "outputs": [
        {
          "output_type": "stream",
          "name": "stdout",
          "text": [
            "63/63 [==============================] - 7s 59ms/step - loss: 0.4526 - accuracy: 0.8205\n",
            "Test accuracy: 0.821\n"
          ]
        }
      ]
    },
    {
      "cell_type": "code",
      "source": [],
      "metadata": {
        "id": "5mu77A9XA-kR"
      },
      "execution_count": null,
      "outputs": []
    }
  ]
}